{
  "cells": [
    {
      "cell_type": "code",
      "execution_count": null,
      "id": "afd93f67-cf89-48c6-a783-a0703d999185",
      "metadata": {
        "id": "afd93f67-cf89-48c6-a783-a0703d999185"
      },
      "outputs": [],
      "source": [
        "import pandas as pd\n",
        "import numpy as np\n",
        "import matplotlib.pyplot as plt\n",
        "import seaborn as sns\n",
        "from sklearn.model_selection import train_test_split"
      ]
    },
    {
      "cell_type": "code",
      "execution_count": null,
      "id": "43b4ffbd-9047-43b9-a767-b369aaaab1dd",
      "metadata": {
        "id": "43b4ffbd-9047-43b9-a767-b369aaaab1dd"
      },
      "outputs": [],
      "source": [
        "# for scaling\n",
        "from sklearn.preprocessing import StandardScaler\n",
        "from sklearn.linear_model import LinearRegression # for linear regression\n",
        "from sklearn.metrics import mean_absolute_error, mean_squared_error, r2_score # for evaluation"
      ]
    },
    {
      "cell_type": "code",
      "execution_count": null,
      "id": "c141eb7c-1e0c-432f-a20d-152f801e96e6",
      "metadata": {
        "id": "c141eb7c-1e0c-432f-a20d-152f801e96e6",
        "outputId": "a3d6cc86-db38-487d-bb86-1068439a101f"
      },
      "outputs": [
        {
          "data": {
            "text/html": [
              "<div>\n",
              "<style scoped>\n",
              "    .dataframe tbody tr th:only-of-type {\n",
              "        vertical-align: middle;\n",
              "    }\n",
              "\n",
              "    .dataframe tbody tr th {\n",
              "        vertical-align: top;\n",
              "    }\n",
              "\n",
              "    .dataframe thead th {\n",
              "        text-align: right;\n",
              "    }\n",
              "</style>\n",
              "<table border=\"1\" class=\"dataframe\">\n",
              "  <thead>\n",
              "    <tr style=\"text-align: right;\">\n",
              "      <th></th>\n",
              "      <th>country</th>\n",
              "      <th>beer_servings</th>\n",
              "      <th>spirit_servings</th>\n",
              "      <th>wine_servings</th>\n",
              "      <th>total_litres_of_pure_alcohol</th>\n",
              "      <th>continent</th>\n",
              "    </tr>\n",
              "  </thead>\n",
              "  <tbody>\n",
              "    <tr>\n",
              "      <th>0</th>\n",
              "      <td>Afghanistan</td>\n",
              "      <td>0.0</td>\n",
              "      <td>0.0</td>\n",
              "      <td>0.0</td>\n",
              "      <td>0.0</td>\n",
              "      <td>Asia</td>\n",
              "    </tr>\n",
              "    <tr>\n",
              "      <th>1</th>\n",
              "      <td>Albania</td>\n",
              "      <td>89.0</td>\n",
              "      <td>132.0</td>\n",
              "      <td>54.0</td>\n",
              "      <td>4.9</td>\n",
              "      <td>Europe</td>\n",
              "    </tr>\n",
              "    <tr>\n",
              "      <th>2</th>\n",
              "      <td>Algeria</td>\n",
              "      <td>25.0</td>\n",
              "      <td>0.0</td>\n",
              "      <td>14.0</td>\n",
              "      <td>0.7</td>\n",
              "      <td>Africa</td>\n",
              "    </tr>\n",
              "    <tr>\n",
              "      <th>3</th>\n",
              "      <td>Andorra</td>\n",
              "      <td>245.0</td>\n",
              "      <td>138.0</td>\n",
              "      <td>312.0</td>\n",
              "      <td>12.4</td>\n",
              "      <td>Europe</td>\n",
              "    </tr>\n",
              "    <tr>\n",
              "      <th>4</th>\n",
              "      <td>Angola</td>\n",
              "      <td>217.0</td>\n",
              "      <td>57.0</td>\n",
              "      <td>45.0</td>\n",
              "      <td>5.9</td>\n",
              "      <td>Africa</td>\n",
              "    </tr>\n",
              "    <tr>\n",
              "      <th>...</th>\n",
              "      <td>...</td>\n",
              "      <td>...</td>\n",
              "      <td>...</td>\n",
              "      <td>...</td>\n",
              "      <td>...</td>\n",
              "      <td>...</td>\n",
              "    </tr>\n",
              "    <tr>\n",
              "      <th>188</th>\n",
              "      <td>Venezuela</td>\n",
              "      <td>NaN</td>\n",
              "      <td>100.0</td>\n",
              "      <td>3.0</td>\n",
              "      <td>7.7</td>\n",
              "      <td>South America</td>\n",
              "    </tr>\n",
              "    <tr>\n",
              "      <th>189</th>\n",
              "      <td>Vietnam</td>\n",
              "      <td>111.0</td>\n",
              "      <td>2.0</td>\n",
              "      <td>1.0</td>\n",
              "      <td>2.0</td>\n",
              "      <td>Asia</td>\n",
              "    </tr>\n",
              "    <tr>\n",
              "      <th>190</th>\n",
              "      <td>Yemen</td>\n",
              "      <td>6.0</td>\n",
              "      <td>0.0</td>\n",
              "      <td>0.0</td>\n",
              "      <td>0.1</td>\n",
              "      <td>Asia</td>\n",
              "    </tr>\n",
              "    <tr>\n",
              "      <th>191</th>\n",
              "      <td>Zambia</td>\n",
              "      <td>32.0</td>\n",
              "      <td>19.0</td>\n",
              "      <td>4.0</td>\n",
              "      <td>2.5</td>\n",
              "      <td>Africa</td>\n",
              "    </tr>\n",
              "    <tr>\n",
              "      <th>192</th>\n",
              "      <td>Zimbabwe</td>\n",
              "      <td>64.0</td>\n",
              "      <td>18.0</td>\n",
              "      <td>4.0</td>\n",
              "      <td>4.7</td>\n",
              "      <td>Africa</td>\n",
              "    </tr>\n",
              "  </tbody>\n",
              "</table>\n",
              "<p>193 rows × 6 columns</p>\n",
              "</div>"
            ],
            "text/plain": [
              "         country  beer_servings  spirit_servings  wine_servings  \\\n",
              "0    Afghanistan            0.0              0.0            0.0   \n",
              "1        Albania           89.0            132.0           54.0   \n",
              "2        Algeria           25.0              0.0           14.0   \n",
              "3        Andorra          245.0            138.0          312.0   \n",
              "4         Angola          217.0             57.0           45.0   \n",
              "..           ...            ...              ...            ...   \n",
              "188    Venezuela            NaN            100.0            3.0   \n",
              "189      Vietnam          111.0              2.0            1.0   \n",
              "190        Yemen            6.0              0.0            0.0   \n",
              "191       Zambia           32.0             19.0            4.0   \n",
              "192     Zimbabwe           64.0             18.0            4.0   \n",
              "\n",
              "     total_litres_of_pure_alcohol      continent  \n",
              "0                             0.0           Asia  \n",
              "1                             4.9         Europe  \n",
              "2                             0.7         Africa  \n",
              "3                            12.4         Europe  \n",
              "4                             5.9         Africa  \n",
              "..                            ...            ...  \n",
              "188                           7.7  South America  \n",
              "189                           2.0           Asia  \n",
              "190                           0.1           Asia  \n",
              "191                           2.5         Africa  \n",
              "192                           4.7         Africa  \n",
              "\n",
              "[193 rows x 6 columns]"
            ]
          },
          "execution_count": 3,
          "metadata": {},
          "output_type": "execute_result"
        }
      ],
      "source": [
        "# loading the dataset\n",
        "bs = pd.read_csv('beer-servings.csv', index_col = 0)\n",
        "bs"
      ]
    },
    {
      "cell_type": "code",
      "execution_count": null,
      "id": "3e62d145-3c43-4772-81a1-f5a11d5f4a1b",
      "metadata": {
        "id": "3e62d145-3c43-4772-81a1-f5a11d5f4a1b",
        "outputId": "6e0e3d88-de8c-4a85-9920-a84ef34630fa"
      },
      "outputs": [
        {
          "name": "stdout",
          "output_type": "stream",
          "text": [
            "<class 'pandas.core.frame.DataFrame'>\n",
            "Index: 193 entries, 0 to 192\n",
            "Data columns (total 6 columns):\n",
            " #   Column                        Non-Null Count  Dtype  \n",
            "---  ------                        --------------  -----  \n",
            " 0   country                       193 non-null    object \n",
            " 1   beer_servings                 185 non-null    float64\n",
            " 2   spirit_servings               185 non-null    float64\n",
            " 3   wine_servings                 187 non-null    float64\n",
            " 4   total_litres_of_pure_alcohol  192 non-null    float64\n",
            " 5   continent                     193 non-null    object \n",
            "dtypes: float64(4), object(2)\n",
            "memory usage: 10.6+ KB\n"
          ]
        }
      ],
      "source": [
        "bs.info()"
      ]
    },
    {
      "cell_type": "code",
      "execution_count": null,
      "id": "e45bbd06-0ba2-4632-8570-a52e9ec70ae4",
      "metadata": {
        "id": "e45bbd06-0ba2-4632-8570-a52e9ec70ae4",
        "outputId": "5032958a-e2c1-439e-fdd0-2c21badf3d74"
      },
      "outputs": [
        {
          "data": {
            "text/plain": [
              "0"
            ]
          },
          "execution_count": 5,
          "metadata": {},
          "output_type": "execute_result"
        }
      ],
      "source": [
        "# checking for duplicates\n",
        "bs.duplicated().sum()"
      ]
    },
    {
      "cell_type": "code",
      "execution_count": null,
      "id": "496cce48-def0-46ba-a515-f84dc8680942",
      "metadata": {
        "id": "496cce48-def0-46ba-a515-f84dc8680942",
        "outputId": "097e0e2b-f16b-4aa8-c974-ffff59bb3a8a"
      },
      "outputs": [
        {
          "data": {
            "text/plain": [
              "193"
            ]
          },
          "execution_count": 6,
          "metadata": {},
          "output_type": "execute_result"
        }
      ],
      "source": [
        "bs['country'].nunique()"
      ]
    },
    {
      "cell_type": "code",
      "execution_count": null,
      "id": "333e7d24-cc2c-41e7-b5b1-d7c69336a3b7",
      "metadata": {
        "id": "333e7d24-cc2c-41e7-b5b1-d7c69336a3b7",
        "outputId": "fe181f79-ba9c-432c-cb28-bfe0b96ab53f"
      },
      "outputs": [
        {
          "data": {
            "text/plain": [
              "6"
            ]
          },
          "execution_count": 7,
          "metadata": {},
          "output_type": "execute_result"
        }
      ],
      "source": [
        "bs['continent'].nunique()"
      ]
    },
    {
      "cell_type": "code",
      "execution_count": null,
      "id": "69cfc3ec-369d-4c97-9092-d92d4c63f06b",
      "metadata": {
        "id": "69cfc3ec-369d-4c97-9092-d92d4c63f06b",
        "outputId": "fabc9575-14b4-4577-e2eb-9378d5efa757"
      },
      "outputs": [
        {
          "data": {
            "text/plain": [
              "array(['Asia', 'Europe', 'Africa', 'North America', 'South America',\n",
              "       'Oceania'], dtype=object)"
            ]
          },
          "execution_count": 8,
          "metadata": {},
          "output_type": "execute_result"
        }
      ],
      "source": [
        "bs['continent'].unique()"
      ]
    },
    {
      "cell_type": "code",
      "execution_count": null,
      "id": "261a5571-ee48-439b-8b84-f23d876573e8",
      "metadata": {
        "id": "261a5571-ee48-439b-8b84-f23d876573e8",
        "outputId": "60812e42-25e5-4ad9-d610-fe65a59bfc45"
      },
      "outputs": [
        {
          "data": {
            "text/plain": [
              "continent\n",
              "Africa           53\n",
              "Europe           45\n",
              "Asia             44\n",
              "North America    23\n",
              "Oceania          16\n",
              "South America    12\n",
              "Name: count, dtype: int64"
            ]
          },
          "execution_count": 9,
          "metadata": {},
          "output_type": "execute_result"
        }
      ],
      "source": [
        "bs['continent'].value_counts()"
      ]
    },
    {
      "cell_type": "code",
      "execution_count": null,
      "id": "053c3980-a1ec-4050-88e5-d74ccdba1b0d",
      "metadata": {
        "id": "053c3980-a1ec-4050-88e5-d74ccdba1b0d",
        "outputId": "a8a547c0-7615-4f6a-a70c-c0d30da16ec1"
      },
      "outputs": [
        {
          "data": {
            "text/html": [
              "<div>\n",
              "<style scoped>\n",
              "    .dataframe tbody tr th:only-of-type {\n",
              "        vertical-align: middle;\n",
              "    }\n",
              "\n",
              "    .dataframe tbody tr th {\n",
              "        vertical-align: top;\n",
              "    }\n",
              "\n",
              "    .dataframe thead th {\n",
              "        text-align: right;\n",
              "    }\n",
              "</style>\n",
              "<table border=\"1\" class=\"dataframe\">\n",
              "  <thead>\n",
              "    <tr style=\"text-align: right;\">\n",
              "      <th></th>\n",
              "      <th>beer_servings</th>\n",
              "      <th>spirit_servings</th>\n",
              "      <th>wine_servings</th>\n",
              "      <th>total_litres_of_pure_alcohol</th>\n",
              "      <th>continent</th>\n",
              "    </tr>\n",
              "  </thead>\n",
              "  <tbody>\n",
              "    <tr>\n",
              "      <th>0</th>\n",
              "      <td>0.0</td>\n",
              "      <td>0.0</td>\n",
              "      <td>0.0</td>\n",
              "      <td>0.0</td>\n",
              "      <td>Asia</td>\n",
              "    </tr>\n",
              "    <tr>\n",
              "      <th>1</th>\n",
              "      <td>89.0</td>\n",
              "      <td>132.0</td>\n",
              "      <td>54.0</td>\n",
              "      <td>4.9</td>\n",
              "      <td>Europe</td>\n",
              "    </tr>\n",
              "    <tr>\n",
              "      <th>2</th>\n",
              "      <td>25.0</td>\n",
              "      <td>0.0</td>\n",
              "      <td>14.0</td>\n",
              "      <td>0.7</td>\n",
              "      <td>Africa</td>\n",
              "    </tr>\n",
              "    <tr>\n",
              "      <th>3</th>\n",
              "      <td>245.0</td>\n",
              "      <td>138.0</td>\n",
              "      <td>312.0</td>\n",
              "      <td>12.4</td>\n",
              "      <td>Europe</td>\n",
              "    </tr>\n",
              "    <tr>\n",
              "      <th>4</th>\n",
              "      <td>217.0</td>\n",
              "      <td>57.0</td>\n",
              "      <td>45.0</td>\n",
              "      <td>5.9</td>\n",
              "      <td>Africa</td>\n",
              "    </tr>\n",
              "  </tbody>\n",
              "</table>\n",
              "</div>"
            ],
            "text/plain": [
              "   beer_servings  spirit_servings  wine_servings  \\\n",
              "0            0.0              0.0            0.0   \n",
              "1           89.0            132.0           54.0   \n",
              "2           25.0              0.0           14.0   \n",
              "3          245.0            138.0          312.0   \n",
              "4          217.0             57.0           45.0   \n",
              "\n",
              "   total_litres_of_pure_alcohol continent  \n",
              "0                           0.0      Asia  \n",
              "1                           4.9    Europe  \n",
              "2                           0.7    Africa  \n",
              "3                          12.4    Europe  \n",
              "4                           5.9    Africa  "
            ]
          },
          "execution_count": 10,
          "metadata": {},
          "output_type": "execute_result"
        }
      ],
      "source": [
        "# dropping the country column\n",
        "bs = bs.drop(columns = ['country'])\n",
        "bs.head()"
      ]
    },
    {
      "cell_type": "code",
      "execution_count": null,
      "id": "fb03cd4c-292b-4c33-bd7e-93ef843c73d4",
      "metadata": {
        "id": "fb03cd4c-292b-4c33-bd7e-93ef843c73d4",
        "outputId": "913cac30-678c-42a6-9010-b0d9679fa9af"
      },
      "outputs": [
        {
          "data": {
            "text/plain": [
              "beer_servings                   8\n",
              "spirit_servings                 8\n",
              "wine_servings                   6\n",
              "total_litres_of_pure_alcohol    1\n",
              "continent                       0\n",
              "dtype: int64"
            ]
          },
          "execution_count": 11,
          "metadata": {},
          "output_type": "execute_result"
        }
      ],
      "source": [
        "# checking for missing values\n",
        "bs.isnull().sum()"
      ]
    },
    {
      "cell_type": "code",
      "execution_count": null,
      "id": "16350d3b-8066-4008-b8a7-5055a92433c7",
      "metadata": {
        "id": "16350d3b-8066-4008-b8a7-5055a92433c7"
      },
      "outputs": [],
      "source": [
        "# filling the missing values with median of each column\n",
        "for col in ['beer_servings','spirit_servings','wine_servings','total_litres_of_pure_alcohol']:\n",
        "    bs[col] = bs[col].fillna(bs[col].median())"
      ]
    },
    {
      "cell_type": "code",
      "execution_count": null,
      "id": "491e89e7-ad74-439b-8c77-9f16f78cf197",
      "metadata": {
        "id": "491e89e7-ad74-439b-8c77-9f16f78cf197",
        "outputId": "5d894ffd-da03-4803-bca9-fe553adf809a"
      },
      "outputs": [
        {
          "data": {
            "text/plain": [
              "beer_servings                   0\n",
              "spirit_servings                 0\n",
              "wine_servings                   0\n",
              "total_litres_of_pure_alcohol    0\n",
              "continent                       0\n",
              "dtype: int64"
            ]
          },
          "execution_count": 13,
          "metadata": {},
          "output_type": "execute_result"
        }
      ],
      "source": [
        "# checking for missing values\n",
        "bs.isnull().sum()"
      ]
    },
    {
      "cell_type": "code",
      "execution_count": null,
      "id": "8cf69d9f-c72d-4326-8219-f55c84abf021",
      "metadata": {
        "id": "8cf69d9f-c72d-4326-8219-f55c84abf021",
        "outputId": "738373d5-9dc7-4c88-dd5a-ed7ca42c778d"
      },
      "outputs": [
        {
          "data": {
            "text/html": [
              "<div>\n",
              "<style scoped>\n",
              "    .dataframe tbody tr th:only-of-type {\n",
              "        vertical-align: middle;\n",
              "    }\n",
              "\n",
              "    .dataframe tbody tr th {\n",
              "        vertical-align: top;\n",
              "    }\n",
              "\n",
              "    .dataframe thead th {\n",
              "        text-align: right;\n",
              "    }\n",
              "</style>\n",
              "<table border=\"1\" class=\"dataframe\">\n",
              "  <thead>\n",
              "    <tr style=\"text-align: right;\">\n",
              "      <th></th>\n",
              "      <th>beer_servings</th>\n",
              "      <th>spirit_servings</th>\n",
              "      <th>wine_servings</th>\n",
              "      <th>total_litres_of_pure_alcohol</th>\n",
              "    </tr>\n",
              "  </thead>\n",
              "  <tbody>\n",
              "    <tr>\n",
              "      <th>count</th>\n",
              "      <td>193.000000</td>\n",
              "      <td>193.000000</td>\n",
              "      <td>193.00000</td>\n",
              "      <td>193.000000</td>\n",
              "    </tr>\n",
              "    <tr>\n",
              "      <th>mean</th>\n",
              "      <td>103.917098</td>\n",
              "      <td>82.259067</td>\n",
              "      <td>48.88601</td>\n",
              "      <td>4.739119</td>\n",
              "    </tr>\n",
              "    <tr>\n",
              "      <th>std</th>\n",
              "      <td>98.580146</td>\n",
              "      <td>87.389366</td>\n",
              "      <td>79.41700</td>\n",
              "      <td>3.757996</td>\n",
              "    </tr>\n",
              "    <tr>\n",
              "      <th>min</th>\n",
              "      <td>0.000000</td>\n",
              "      <td>0.000000</td>\n",
              "      <td>0.00000</td>\n",
              "      <td>0.000000</td>\n",
              "    </tr>\n",
              "    <tr>\n",
              "      <th>25%</th>\n",
              "      <td>21.000000</td>\n",
              "      <td>5.000000</td>\n",
              "      <td>1.00000</td>\n",
              "      <td>1.300000</td>\n",
              "    </tr>\n",
              "    <tr>\n",
              "      <th>50%</th>\n",
              "      <td>76.000000</td>\n",
              "      <td>60.000000</td>\n",
              "      <td>9.00000</td>\n",
              "      <td>4.250000</td>\n",
              "    </tr>\n",
              "    <tr>\n",
              "      <th>75%</th>\n",
              "      <td>171.000000</td>\n",
              "      <td>128.000000</td>\n",
              "      <td>59.00000</td>\n",
              "      <td>7.200000</td>\n",
              "    </tr>\n",
              "    <tr>\n",
              "      <th>max</th>\n",
              "      <td>376.000000</td>\n",
              "      <td>438.000000</td>\n",
              "      <td>370.00000</td>\n",
              "      <td>14.400000</td>\n",
              "    </tr>\n",
              "  </tbody>\n",
              "</table>\n",
              "</div>"
            ],
            "text/plain": [
              "       beer_servings  spirit_servings  wine_servings  \\\n",
              "count     193.000000       193.000000      193.00000   \n",
              "mean      103.917098        82.259067       48.88601   \n",
              "std        98.580146        87.389366       79.41700   \n",
              "min         0.000000         0.000000        0.00000   \n",
              "25%        21.000000         5.000000        1.00000   \n",
              "50%        76.000000        60.000000        9.00000   \n",
              "75%       171.000000       128.000000       59.00000   \n",
              "max       376.000000       438.000000      370.00000   \n",
              "\n",
              "       total_litres_of_pure_alcohol  \n",
              "count                    193.000000  \n",
              "mean                       4.739119  \n",
              "std                        3.757996  \n",
              "min                        0.000000  \n",
              "25%                        1.300000  \n",
              "50%                        4.250000  \n",
              "75%                        7.200000  \n",
              "max                       14.400000  "
            ]
          },
          "execution_count": 30,
          "metadata": {},
          "output_type": "execute_result"
        }
      ],
      "source": [
        "# to get statistics\n",
        "bs.describe()"
      ]
    },
    {
      "cell_type": "code",
      "execution_count": null,
      "id": "303249a4-f3ba-4c6d-9e6f-26856fec884c",
      "metadata": {
        "id": "303249a4-f3ba-4c6d-9e6f-26856fec884c",
        "outputId": "300b6d27-9aa5-4c2c-b0ca-c407c9f89955"
      },
      "outputs": [
        {
          "data": {
            "image/png": "[encoded data removed]",
            "text/plain": [
              "<Figure size 640x480 with 1 Axes>"
            ]
          },
          "metadata": {},
          "output_type": "display_data"
        }
      ],
      "source": [
        "# Visualizing target variable\n",
        "sns.histplot(bs['total_litres_of_pure_alcohol'], bins=10, color='green', kde=True)\n",
        "plt.xlabel('Total Litres of Pure Alcohol')\n",
        "plt.ylabel('Frequency')\n",
        "plt.title('Distribution of Target Variable')\n",
        "plt.show()"
      ]
    },
    {
      "cell_type": "code",
      "execution_count": null,
      "id": "562264b9-45fc-4bb1-8eb4-a330f6bca615",
      "metadata": {
        "id": "562264b9-45fc-4bb1-8eb4-a330f6bca615",
        "outputId": "a7e8e72f-1f96-4f57-a69f-6b34e929becb"
      },
      "outputs": [
        {
          "data": {
            "image/png": "[encoded data removed]",
            "text/plain": [
              "<Figure size 1000x600 with 1 Axes>"
            ]
          },
          "metadata": {},
          "output_type": "display_data"
        }
      ],
      "source": [
        "# Checking for outliers\n",
        "numerical_columns = ['beer_servings', 'spirit_servings', 'wine_servings']\n",
        "plt.figure(figsize=(10,6))\n",
        "sns.boxplot(data=bs[numerical_columns])\n",
        "plt.title('Outlier Detection')\n",
        "plt.show()"
      ]
    },
    {
      "cell_type": "code",
      "execution_count": null,
      "id": "2790b801-25d3-41fc-8135-3ff3feb65ab6",
      "metadata": {
        "id": "2790b801-25d3-41fc-8135-3ff3feb65ab6"
      },
      "outputs": [],
      "source": [
        "# Treating the Outlier using IQR\n",
        "outlier_columns = ['spirit_servings', 'wine_servings']\n",
        "\n",
        "# Calculate the quartiles and IQR for the outlier columns\n",
        "Q1 = bs[outlier_columns].quantile(0.25)\n",
        "Q3 = bs[outlier_columns].quantile(0.75)\n",
        "IQR = Q3 - Q1\n",
        "\n",
        "# Outlier treatment using IQR method (capping at 1.5 times IQR)\n",
        "outliers_lower = bs[outlier_columns] < (Q1 - 1.5 * IQR)\n",
        "outliers_upper = bs[outlier_columns] > (Q3 + 1.5 * IQR)\n",
        "\n",
        "# Cap the outliers to 1.5 times IQR\n",
        "bs[outlier_columns] = bs[outlier_columns].clip(lower=Q1 - 1.5 * IQR, upper=Q3 + 1.5 * IQR, axis = 1)\n",
        "\n",
        "# any below the limit and over the limit is brought to q1 - 1.5*IQR and q3 + 1.5*IQR"
      ]
    },
    {
      "cell_type": "code",
      "execution_count": null,
      "id": "20cb1477-7d10-4be8-ab11-5ee2d5fb2eed",
      "metadata": {
        "id": "20cb1477-7d10-4be8-ab11-5ee2d5fb2eed",
        "outputId": "7106de2c-2555-47aa-9c9f-abbc42f58da3"
      },
      "outputs": [
        {
          "data": {
            "image/png": "[encoded data removed]",
            "text/plain": [
              "<Figure size 1000x700 with 1 Axes>"
            ]
          },
          "metadata": {},
          "output_type": "display_data"
        }
      ],
      "source": [
        "# Confirm outliers removed\n",
        "outlier_recheck = ['spirit_servings','wine_servings']\n",
        "plt.figure(figsize = (10,7))\n",
        "sns.boxplot(data=bs[outlier_recheck])\n",
        "plt.title('for outliers checking')\n",
        "plt.xlabel('Columns')\n",
        "plt.ylabel('Values')\n",
        "plt.xticks(rotation=45, fontsize = 20)\n",
        "plt.show()"
      ]
    },
    {
      "cell_type": "code",
      "execution_count": null,
      "id": "200bfab1-3cb4-48dc-a8be-cb71a8f58f7c",
      "metadata": {
        "id": "200bfab1-3cb4-48dc-a8be-cb71a8f58f7c",
        "outputId": "783061c1-85e9-456f-ed9a-bce6eb237764"
      },
      "outputs": [
        {
          "data": {
            "text/html": [
              "<div>\n",
              "<style scoped>\n",
              "    .dataframe tbody tr th:only-of-type {\n",
              "        vertical-align: middle;\n",
              "    }\n",
              "\n",
              "    .dataframe tbody tr th {\n",
              "        vertical-align: top;\n",
              "    }\n",
              "\n",
              "    .dataframe thead th {\n",
              "        text-align: right;\n",
              "    }\n",
              "</style>\n",
              "<table border=\"1\" class=\"dataframe\">\n",
              "  <thead>\n",
              "    <tr style=\"text-align: right;\">\n",
              "      <th></th>\n",
              "      <th>beer_servings</th>\n",
              "      <th>spirit_servings</th>\n",
              "      <th>wine_servings</th>\n",
              "      <th>total_litres_of_pure_alcohol</th>\n",
              "      <th>continent</th>\n",
              "    </tr>\n",
              "  </thead>\n",
              "  <tbody>\n",
              "    <tr>\n",
              "      <th>0</th>\n",
              "      <td>0.0</td>\n",
              "      <td>0.0</td>\n",
              "      <td>0.0</td>\n",
              "      <td>0.0</td>\n",
              "      <td>Asia</td>\n",
              "    </tr>\n",
              "    <tr>\n",
              "      <th>1</th>\n",
              "      <td>89.0</td>\n",
              "      <td>132.0</td>\n",
              "      <td>54.0</td>\n",
              "      <td>4.9</td>\n",
              "      <td>Europe</td>\n",
              "    </tr>\n",
              "    <tr>\n",
              "      <th>2</th>\n",
              "      <td>25.0</td>\n",
              "      <td>0.0</td>\n",
              "      <td>14.0</td>\n",
              "      <td>0.7</td>\n",
              "      <td>Africa</td>\n",
              "    </tr>\n",
              "    <tr>\n",
              "      <th>3</th>\n",
              "      <td>245.0</td>\n",
              "      <td>138.0</td>\n",
              "      <td>146.0</td>\n",
              "      <td>12.4</td>\n",
              "      <td>Europe</td>\n",
              "    </tr>\n",
              "    <tr>\n",
              "      <th>4</th>\n",
              "      <td>217.0</td>\n",
              "      <td>57.0</td>\n",
              "      <td>45.0</td>\n",
              "      <td>5.9</td>\n",
              "      <td>Africa</td>\n",
              "    </tr>\n",
              "  </tbody>\n",
              "</table>\n",
              "</div>"
            ],
            "text/plain": [
              "   beer_servings  spirit_servings  wine_servings  \\\n",
              "0            0.0              0.0            0.0   \n",
              "1           89.0            132.0           54.0   \n",
              "2           25.0              0.0           14.0   \n",
              "3          245.0            138.0          146.0   \n",
              "4          217.0             57.0           45.0   \n",
              "\n",
              "   total_litres_of_pure_alcohol continent  \n",
              "0                           0.0      Asia  \n",
              "1                           4.9    Europe  \n",
              "2                           0.7    Africa  \n",
              "3                          12.4    Europe  \n",
              "4                           5.9    Africa  "
            ]
          },
          "execution_count": 40,
          "metadata": {},
          "output_type": "execute_result"
        }
      ],
      "source": [
        "bs.head()"
      ]
    },
    {
      "cell_type": "code",
      "execution_count": null,
      "id": "f84a27ac-7a67-45a1-85dc-bc791a53f4bb",
      "metadata": {
        "id": "f84a27ac-7a67-45a1-85dc-bc791a53f4bb",
        "outputId": "e80be34c-259f-4dd4-db3d-c5b4e6db1dcd"
      },
      "outputs": [
        {
          "data": {
            "text/plain": [
              "continent\n",
              "Africa           53\n",
              "Europe           45\n",
              "Asia             44\n",
              "North America    23\n",
              "Oceania          16\n",
              "South America    12\n",
              "Name: count, dtype: int64"
            ]
          },
          "execution_count": 42,
          "metadata": {},
          "output_type": "execute_result"
        }
      ],
      "source": [
        "bs['continent'].value_counts()"
      ]
    },
    {
      "cell_type": "code",
      "execution_count": null,
      "id": "eb705378-14d4-472a-bb4b-a060f2f66ad9",
      "metadata": {
        "id": "eb705378-14d4-472a-bb4b-a060f2f66ad9",
        "outputId": "df88b2e7-4052-41ad-8e7f-688bf9010aa0"
      },
      "outputs": [
        {
          "data": {
            "text/plain": [
              "(193, 5)"
            ]
          },
          "execution_count": 44,
          "metadata": {},
          "output_type": "execute_result"
        }
      ],
      "source": [
        "bs.shape"
      ]
    },
    {
      "cell_type": "code",
      "execution_count": null,
      "id": "d9083946-19de-4969-83fc-0780513e5ead",
      "metadata": {
        "id": "d9083946-19de-4969-83fc-0780513e5ead"
      },
      "outputs": [],
      "source": [
        "from sklearn.preprocessing import OneHotEncoder\n",
        "from sklearn.compose import ColumnTransformer"
      ]
    },
    {
      "cell_type": "code",
      "execution_count": null,
      "id": "62d9b231-15bf-4599-ad1c-52f3d4702c19",
      "metadata": {
        "id": "62d9b231-15bf-4599-ad1c-52f3d4702c19"
      },
      "outputs": [],
      "source": [
        "# Initializing OneHotEncoder\n",
        "encoder = OneHotEncoder()"
      ]
    },
    {
      "cell_type": "code",
      "execution_count": null,
      "id": "be288d2d-631d-4840-8114-254bb8597dd6",
      "metadata": {
        "id": "be288d2d-631d-4840-8114-254bb8597dd6"
      },
      "outputs": [],
      "source": [
        "# Fitting and transforming the 'continent' column\n",
        "encoded_continent = encoder.fit_transform(bs[['continent']]).toarray()\n",
        "\n",
        "# Getting feature names for the encoded columns\n",
        "encoded_continent_bs = pd.DataFrame(encoded_continent, columns=encoder.get_feature_names_out(['continent']))\n",
        "\n",
        "# Concatenating the encoded columns with the original dataframe\n",
        "one_hot_encoded_bs = pd.concat([bs, encoded_continent_bs], axis=1).drop('continent', axis=1)"
      ]
    },
    {
      "cell_type": "code",
      "execution_count": null,
      "id": "5344e52c-e292-4ec0-80a4-5c96a8d98409",
      "metadata": {
        "id": "5344e52c-e292-4ec0-80a4-5c96a8d98409",
        "outputId": "07074020-e1dd-4f3e-88eb-916f0406a930"
      },
      "outputs": [
        {
          "data": {
            "text/html": [
              "<div>\n",
              "<style scoped>\n",
              "    .dataframe tbody tr th:only-of-type {\n",
              "        vertical-align: middle;\n",
              "    }\n",
              "\n",
              "    .dataframe tbody tr th {\n",
              "        vertical-align: top;\n",
              "    }\n",
              "\n",
              "    .dataframe thead th {\n",
              "        text-align: right;\n",
              "    }\n",
              "</style>\n",
              "<table border=\"1\" class=\"dataframe\">\n",
              "  <thead>\n",
              "    <tr style=\"text-align: right;\">\n",
              "      <th></th>\n",
              "      <th>beer_servings</th>\n",
              "      <th>spirit_servings</th>\n",
              "      <th>wine_servings</th>\n",
              "      <th>total_litres_of_pure_alcohol</th>\n",
              "      <th>continent_Africa</th>\n",
              "      <th>continent_Asia</th>\n",
              "      <th>continent_Europe</th>\n",
              "      <th>continent_North America</th>\n",
              "      <th>continent_Oceania</th>\n",
              "      <th>continent_South America</th>\n",
              "    </tr>\n",
              "  </thead>\n",
              "  <tbody>\n",
              "    <tr>\n",
              "      <th>0</th>\n",
              "      <td>0.0</td>\n",
              "      <td>0.0</td>\n",
              "      <td>0.0</td>\n",
              "      <td>0.0</td>\n",
              "      <td>0.0</td>\n",
              "      <td>1.0</td>\n",
              "      <td>0.0</td>\n",
              "      <td>0.0</td>\n",
              "      <td>0.0</td>\n",
              "      <td>0.0</td>\n",
              "    </tr>\n",
              "    <tr>\n",
              "      <th>1</th>\n",
              "      <td>89.0</td>\n",
              "      <td>132.0</td>\n",
              "      <td>54.0</td>\n",
              "      <td>4.9</td>\n",
              "      <td>0.0</td>\n",
              "      <td>0.0</td>\n",
              "      <td>1.0</td>\n",
              "      <td>0.0</td>\n",
              "      <td>0.0</td>\n",
              "      <td>0.0</td>\n",
              "    </tr>\n",
              "    <tr>\n",
              "      <th>2</th>\n",
              "      <td>25.0</td>\n",
              "      <td>0.0</td>\n",
              "      <td>14.0</td>\n",
              "      <td>0.7</td>\n",
              "      <td>1.0</td>\n",
              "      <td>0.0</td>\n",
              "      <td>0.0</td>\n",
              "      <td>0.0</td>\n",
              "      <td>0.0</td>\n",
              "      <td>0.0</td>\n",
              "    </tr>\n",
              "    <tr>\n",
              "      <th>3</th>\n",
              "      <td>245.0</td>\n",
              "      <td>138.0</td>\n",
              "      <td>146.0</td>\n",
              "      <td>12.4</td>\n",
              "      <td>0.0</td>\n",
              "      <td>0.0</td>\n",
              "      <td>1.0</td>\n",
              "      <td>0.0</td>\n",
              "      <td>0.0</td>\n",
              "      <td>0.0</td>\n",
              "    </tr>\n",
              "    <tr>\n",
              "      <th>4</th>\n",
              "      <td>217.0</td>\n",
              "      <td>57.0</td>\n",
              "      <td>45.0</td>\n",
              "      <td>5.9</td>\n",
              "      <td>1.0</td>\n",
              "      <td>0.0</td>\n",
              "      <td>0.0</td>\n",
              "      <td>0.0</td>\n",
              "      <td>0.0</td>\n",
              "      <td>0.0</td>\n",
              "    </tr>\n",
              "  </tbody>\n",
              "</table>\n",
              "</div>"
            ],
            "text/plain": [
              "   beer_servings  spirit_servings  wine_servings  \\\n",
              "0            0.0              0.0            0.0   \n",
              "1           89.0            132.0           54.0   \n",
              "2           25.0              0.0           14.0   \n",
              "3          245.0            138.0          146.0   \n",
              "4          217.0             57.0           45.0   \n",
              "\n",
              "   total_litres_of_pure_alcohol  continent_Africa  continent_Asia  \\\n",
              "0                           0.0               0.0             1.0   \n",
              "1                           4.9               0.0             0.0   \n",
              "2                           0.7               1.0             0.0   \n",
              "3                          12.4               0.0             0.0   \n",
              "4                           5.9               1.0             0.0   \n",
              "\n",
              "   continent_Europe  continent_North America  continent_Oceania  \\\n",
              "0               0.0                      0.0                0.0   \n",
              "1               1.0                      0.0                0.0   \n",
              "2               0.0                      0.0                0.0   \n",
              "3               1.0                      0.0                0.0   \n",
              "4               0.0                      0.0                0.0   \n",
              "\n",
              "   continent_South America  \n",
              "0                      0.0  \n",
              "1                      0.0  \n",
              "2                      0.0  \n",
              "3                      0.0  \n",
              "4                      0.0  "
            ]
          },
          "execution_count": 52,
          "metadata": {},
          "output_type": "execute_result"
        }
      ],
      "source": [
        "one_hot_encoded_bs.head()"
      ]
    },
    {
      "cell_type": "code",
      "execution_count": null,
      "id": "c4b88ac1-331d-4ad7-9a6b-f26d39330a1b",
      "metadata": {
        "id": "c4b88ac1-331d-4ad7-9a6b-f26d39330a1b",
        "outputId": "4ddfb461-72a4-4e0d-fbff-300d717d3756"
      },
      "outputs": [
        {
          "data": {
            "text/plain": [
              "(193, 10)"
            ]
          },
          "execution_count": 54,
          "metadata": {},
          "output_type": "execute_result"
        }
      ],
      "source": [
        "one_hot_encoded_bs.shape"
      ]
    },
    {
      "cell_type": "code",
      "execution_count": null,
      "id": "7e356138-a9d0-46c3-819a-87d61ebec4af",
      "metadata": {
        "id": "7e356138-a9d0-46c3-819a-87d61ebec4af"
      },
      "outputs": [],
      "source": [
        "# Scaling\n",
        "\n",
        "numerical_columns = ['beer_servings', 'spirit_servings', 'wine_servings']\n",
        "# Feature scaling\n",
        "scaler = StandardScaler()\n",
        "one_hot_encoded_bs[numerical_columns] = scaler.fit_transform(one_hot_encoded_bs[numerical_columns])"
      ]
    },
    {
      "cell_type": "code",
      "execution_count": null,
      "id": "0266b6d2-b33f-4e46-849f-d3a538bb3766",
      "metadata": {
        "id": "0266b6d2-b33f-4e46-849f-d3a538bb3766",
        "outputId": "2c24b21f-b829-403d-a0b8-38f7864017d6"
      },
      "outputs": [
        {
          "data": {
            "text/html": [
              "<div>\n",
              "<style scoped>\n",
              "    .dataframe tbody tr th:only-of-type {\n",
              "        vertical-align: middle;\n",
              "    }\n",
              "\n",
              "    .dataframe tbody tr th {\n",
              "        vertical-align: top;\n",
              "    }\n",
              "\n",
              "    .dataframe thead th {\n",
              "        text-align: right;\n",
              "    }\n",
              "</style>\n",
              "<table border=\"1\" class=\"dataframe\">\n",
              "  <thead>\n",
              "    <tr style=\"text-align: right;\">\n",
              "      <th></th>\n",
              "      <th>beer_servings</th>\n",
              "      <th>spirit_servings</th>\n",
              "      <th>wine_servings</th>\n",
              "      <th>total_litres_of_pure_alcohol</th>\n",
              "      <th>continent_Africa</th>\n",
              "      <th>continent_Asia</th>\n",
              "      <th>continent_Europe</th>\n",
              "      <th>continent_North America</th>\n",
              "      <th>continent_Oceania</th>\n",
              "      <th>continent_South America</th>\n",
              "    </tr>\n",
              "  </thead>\n",
              "  <tbody>\n",
              "    <tr>\n",
              "      <th>0</th>\n",
              "      <td>-1.056880</td>\n",
              "      <td>-0.971267</td>\n",
              "      <td>-0.723136</td>\n",
              "      <td>0.0</td>\n",
              "      <td>0.0</td>\n",
              "      <td>1.0</td>\n",
              "      <td>0.0</td>\n",
              "      <td>0.0</td>\n",
              "      <td>0.0</td>\n",
              "      <td>0.0</td>\n",
              "    </tr>\n",
              "    <tr>\n",
              "      <th>1</th>\n",
              "      <td>-0.151713</td>\n",
              "      <td>0.608759</td>\n",
              "      <td>0.302520</td>\n",
              "      <td>4.9</td>\n",
              "      <td>0.0</td>\n",
              "      <td>0.0</td>\n",
              "      <td>1.0</td>\n",
              "      <td>0.0</td>\n",
              "      <td>0.0</td>\n",
              "      <td>0.0</td>\n",
              "    </tr>\n",
              "    <tr>\n",
              "      <th>2</th>\n",
              "      <td>-0.802619</td>\n",
              "      <td>-0.971267</td>\n",
              "      <td>-0.457225</td>\n",
              "      <td>0.7</td>\n",
              "      <td>1.0</td>\n",
              "      <td>0.0</td>\n",
              "      <td>0.0</td>\n",
              "      <td>0.0</td>\n",
              "      <td>0.0</td>\n",
              "      <td>0.0</td>\n",
              "    </tr>\n",
              "    <tr>\n",
              "      <th>3</th>\n",
              "      <td>1.434871</td>\n",
              "      <td>0.680578</td>\n",
              "      <td>2.049934</td>\n",
              "      <td>12.4</td>\n",
              "      <td>0.0</td>\n",
              "      <td>0.0</td>\n",
              "      <td>1.0</td>\n",
              "      <td>0.0</td>\n",
              "      <td>0.0</td>\n",
              "      <td>0.0</td>\n",
              "    </tr>\n",
              "    <tr>\n",
              "      <th>4</th>\n",
              "      <td>1.150100</td>\n",
              "      <td>-0.288983</td>\n",
              "      <td>0.131578</td>\n",
              "      <td>5.9</td>\n",
              "      <td>1.0</td>\n",
              "      <td>0.0</td>\n",
              "      <td>0.0</td>\n",
              "      <td>0.0</td>\n",
              "      <td>0.0</td>\n",
              "      <td>0.0</td>\n",
              "    </tr>\n",
              "  </tbody>\n",
              "</table>\n",
              "</div>"
            ],
            "text/plain": [
              "   beer_servings  spirit_servings  wine_servings  \\\n",
              "0      -1.056880        -0.971267      -0.723136   \n",
              "1      -0.151713         0.608759       0.302520   \n",
              "2      -0.802619        -0.971267      -0.457225   \n",
              "3       1.434871         0.680578       2.049934   \n",
              "4       1.150100        -0.288983       0.131578   \n",
              "\n",
              "   total_litres_of_pure_alcohol  continent_Africa  continent_Asia  \\\n",
              "0                           0.0               0.0             1.0   \n",
              "1                           4.9               0.0             0.0   \n",
              "2                           0.7               1.0             0.0   \n",
              "3                          12.4               0.0             0.0   \n",
              "4                           5.9               1.0             0.0   \n",
              "\n",
              "   continent_Europe  continent_North America  continent_Oceania  \\\n",
              "0               0.0                      0.0                0.0   \n",
              "1               1.0                      0.0                0.0   \n",
              "2               0.0                      0.0                0.0   \n",
              "3               1.0                      0.0                0.0   \n",
              "4               0.0                      0.0                0.0   \n",
              "\n",
              "   continent_South America  \n",
              "0                      0.0  \n",
              "1                      0.0  \n",
              "2                      0.0  \n",
              "3                      0.0  \n",
              "4                      0.0  "
            ]
          },
          "execution_count": 58,
          "metadata": {},
          "output_type": "execute_result"
        }
      ],
      "source": [
        "one_hot_encoded_bs.head()"
      ]
    },
    {
      "cell_type": "code",
      "execution_count": null,
      "id": "dec103b4-1fb8-44a1-8429-7ec4bed18e66",
      "metadata": {
        "id": "dec103b4-1fb8-44a1-8429-7ec4bed18e66",
        "outputId": "bf4e3ff9-d477-42c1-e3ad-68b5de3f455c"
      },
      "outputs": [
        {
          "data": {
            "text/html": [
              "<div>\n",
              "<style scoped>\n",
              "    .dataframe tbody tr th:only-of-type {\n",
              "        vertical-align: middle;\n",
              "    }\n",
              "\n",
              "    .dataframe tbody tr th {\n",
              "        vertical-align: top;\n",
              "    }\n",
              "\n",
              "    .dataframe thead th {\n",
              "        text-align: right;\n",
              "    }\n",
              "</style>\n",
              "<table border=\"1\" class=\"dataframe\">\n",
              "  <thead>\n",
              "    <tr style=\"text-align: right;\">\n",
              "      <th></th>\n",
              "      <th>beer_servings</th>\n",
              "      <th>spirit_servings</th>\n",
              "      <th>wine_servings</th>\n",
              "      <th>total_litres_of_pure_alcohol</th>\n",
              "      <th>continent_Africa</th>\n",
              "      <th>continent_Asia</th>\n",
              "      <th>continent_Europe</th>\n",
              "      <th>continent_North America</th>\n",
              "      <th>continent_Oceania</th>\n",
              "      <th>continent_South America</th>\n",
              "    </tr>\n",
              "  </thead>\n",
              "  <tbody>\n",
              "    <tr>\n",
              "      <th>count</th>\n",
              "      <td>1.930000e+02</td>\n",
              "      <td>1.930000e+02</td>\n",
              "      <td>1.930000e+02</td>\n",
              "      <td>193.000000</td>\n",
              "      <td>193.000000</td>\n",
              "      <td>193.000000</td>\n",
              "      <td>193.000000</td>\n",
              "      <td>193.000000</td>\n",
              "      <td>193.000000</td>\n",
              "      <td>193.000000</td>\n",
              "    </tr>\n",
              "    <tr>\n",
              "      <th>mean</th>\n",
              "      <td>1.035441e-17</td>\n",
              "      <td>-4.601961e-17</td>\n",
              "      <td>-3.221373e-17</td>\n",
              "      <td>4.739119</td>\n",
              "      <td>0.274611</td>\n",
              "      <td>0.227979</td>\n",
              "      <td>0.233161</td>\n",
              "      <td>0.119171</td>\n",
              "      <td>0.082902</td>\n",
              "      <td>0.062176</td>\n",
              "    </tr>\n",
              "    <tr>\n",
              "      <th>std</th>\n",
              "      <td>1.002601e+00</td>\n",
              "      <td>1.002601e+00</td>\n",
              "      <td>1.002601e+00</td>\n",
              "      <td>3.757996</td>\n",
              "      <td>0.447479</td>\n",
              "      <td>0.420620</td>\n",
              "      <td>0.423943</td>\n",
              "      <td>0.324832</td>\n",
              "      <td>0.276450</td>\n",
              "      <td>0.242103</td>\n",
              "    </tr>\n",
              "    <tr>\n",
              "      <th>min</th>\n",
              "      <td>-1.056880e+00</td>\n",
              "      <td>-9.712666e-01</td>\n",
              "      <td>-7.231355e-01</td>\n",
              "      <td>0.000000</td>\n",
              "      <td>0.000000</td>\n",
              "      <td>0.000000</td>\n",
              "      <td>0.000000</td>\n",
              "      <td>0.000000</td>\n",
              "      <td>0.000000</td>\n",
              "      <td>0.000000</td>\n",
              "    </tr>\n",
              "    <tr>\n",
              "      <th>25%</th>\n",
              "      <td>-8.433011e-01</td>\n",
              "      <td>-9.114171e-01</td>\n",
              "      <td>-7.041419e-01</td>\n",
              "      <td>1.300000</td>\n",
              "      <td>0.000000</td>\n",
              "      <td>0.000000</td>\n",
              "      <td>0.000000</td>\n",
              "      <td>0.000000</td>\n",
              "      <td>0.000000</td>\n",
              "      <td>0.000000</td>\n",
              "    </tr>\n",
              "    <tr>\n",
              "      <th>50%</th>\n",
              "      <td>-2.839284e-01</td>\n",
              "      <td>-2.530732e-01</td>\n",
              "      <td>-5.521929e-01</td>\n",
              "      <td>4.250000</td>\n",
              "      <td>0.000000</td>\n",
              "      <td>0.000000</td>\n",
              "      <td>0.000000</td>\n",
              "      <td>0.000000</td>\n",
              "      <td>0.000000</td>\n",
              "      <td>0.000000</td>\n",
              "    </tr>\n",
              "    <tr>\n",
              "      <th>75%</th>\n",
              "      <td>6.822608e-01</td>\n",
              "      <td>5.608792e-01</td>\n",
              "      <td>3.974883e-01</td>\n",
              "      <td>7.200000</td>\n",
              "      <td>1.000000</td>\n",
              "      <td>0.000000</td>\n",
              "      <td>0.000000</td>\n",
              "      <td>0.000000</td>\n",
              "      <td>0.000000</td>\n",
              "      <td>0.000000</td>\n",
              "    </tr>\n",
              "    <tr>\n",
              "      <th>max</th>\n",
              "      <td>2.767195e+00</td>\n",
              "      <td>2.769324e+00</td>\n",
              "      <td>2.049934e+00</td>\n",
              "      <td>14.400000</td>\n",
              "      <td>1.000000</td>\n",
              "      <td>1.000000</td>\n",
              "      <td>1.000000</td>\n",
              "      <td>1.000000</td>\n",
              "      <td>1.000000</td>\n",
              "      <td>1.000000</td>\n",
              "    </tr>\n",
              "  </tbody>\n",
              "</table>\n",
              "</div>"
            ],
            "text/plain": [
              "       beer_servings  spirit_servings  wine_servings  \\\n",
              "count   1.930000e+02     1.930000e+02   1.930000e+02   \n",
              "mean    1.035441e-17    -4.601961e-17  -3.221373e-17   \n",
              "std     1.002601e+00     1.002601e+00   1.002601e+00   \n",
              "min    -1.056880e+00    -9.712666e-01  -7.231355e-01   \n",
              "25%    -8.433011e-01    -9.114171e-01  -7.041419e-01   \n",
              "50%    -2.839284e-01    -2.530732e-01  -5.521929e-01   \n",
              "75%     6.822608e-01     5.608792e-01   3.974883e-01   \n",
              "max     2.767195e+00     2.769324e+00   2.049934e+00   \n",
              "\n",
              "       total_litres_of_pure_alcohol  continent_Africa  continent_Asia  \\\n",
              "count                    193.000000        193.000000      193.000000   \n",
              "mean                       4.739119          0.274611        0.227979   \n",
              "std                        3.757996          0.447479        0.420620   \n",
              "min                        0.000000          0.000000        0.000000   \n",
              "25%                        1.300000          0.000000        0.000000   \n",
              "50%                        4.250000          0.000000        0.000000   \n",
              "75%                        7.200000          1.000000        0.000000   \n",
              "max                       14.400000          1.000000        1.000000   \n",
              "\n",
              "       continent_Europe  continent_North America  continent_Oceania  \\\n",
              "count        193.000000               193.000000         193.000000   \n",
              "mean           0.233161                 0.119171           0.082902   \n",
              "std            0.423943                 0.324832           0.276450   \n",
              "min            0.000000                 0.000000           0.000000   \n",
              "25%            0.000000                 0.000000           0.000000   \n",
              "50%            0.000000                 0.000000           0.000000   \n",
              "75%            0.000000                 0.000000           0.000000   \n",
              "max            1.000000                 1.000000           1.000000   \n",
              "\n",
              "       continent_South America  \n",
              "count               193.000000  \n",
              "mean                  0.062176  \n",
              "std                   0.242103  \n",
              "min                   0.000000  \n",
              "25%                   0.000000  \n",
              "50%                   0.000000  \n",
              "75%                   0.000000  \n",
              "max                   1.000000  "
            ]
          },
          "execution_count": 60,
          "metadata": {},
          "output_type": "execute_result"
        }
      ],
      "source": [
        "one_hot_encoded_bs.describe()"
      ]
    },
    {
      "cell_type": "code",
      "execution_count": null,
      "id": "2eb7e76a-cc6b-464a-9d23-8311773d8dd6",
      "metadata": {
        "id": "2eb7e76a-cc6b-464a-9d23-8311773d8dd6"
      },
      "outputs": [],
      "source": [
        "# Splitting dataset\n",
        "X = one_hot_encoded_bs.drop(columns=['total_litres_of_pure_alcohol'])\n",
        "y = one_hot_encoded_bs['total_litres_of_pure_alcohol']\n",
        "X_train, X_test, y_train, y_test = train_test_split(X, y, test_size=0.2, random_state=42)"
      ]
    },
    {
      "cell_type": "code",
      "execution_count": null,
      "id": "6cb53c9c-123a-4fa3-bab4-7198a822289b",
      "metadata": {
        "id": "6cb53c9c-123a-4fa3-bab4-7198a822289b",
        "outputId": "b227a6c5-4363-435c-c5bb-93cdba6037a7"
      },
      "outputs": [
        {
          "data": {
            "text/plain": [
              "(193, 10)"
            ]
          },
          "execution_count": 66,
          "metadata": {},
          "output_type": "execute_result"
        }
      ],
      "source": [
        "one_hot_encoded_bs.shape"
      ]
    },
    {
      "cell_type": "code",
      "execution_count": null,
      "id": "08ee0cca-aee5-4c79-bf09-d0e4c6ff3be9",
      "metadata": {
        "id": "08ee0cca-aee5-4c79-bf09-d0e4c6ff3be9",
        "outputId": "89f92f39-370f-43f6-8440-35ad9349c2d7"
      },
      "outputs": [
        {
          "data": {
            "text/html": [
              "<div>\n",
              "<style scoped>\n",
              "    .dataframe tbody tr th:only-of-type {\n",
              "        vertical-align: middle;\n",
              "    }\n",
              "\n",
              "    .dataframe tbody tr th {\n",
              "        vertical-align: top;\n",
              "    }\n",
              "\n",
              "    .dataframe thead th {\n",
              "        text-align: right;\n",
              "    }\n",
              "</style>\n",
              "<table border=\"1\" class=\"dataframe\">\n",
              "  <thead>\n",
              "    <tr style=\"text-align: right;\">\n",
              "      <th></th>\n",
              "      <th>beer_servings</th>\n",
              "      <th>spirit_servings</th>\n",
              "      <th>wine_servings</th>\n",
              "      <th>continent_Africa</th>\n",
              "      <th>continent_Asia</th>\n",
              "      <th>continent_Europe</th>\n",
              "      <th>continent_North America</th>\n",
              "      <th>continent_Oceania</th>\n",
              "      <th>continent_South America</th>\n",
              "    </tr>\n",
              "  </thead>\n",
              "  <tbody>\n",
              "    <tr>\n",
              "      <th>0</th>\n",
              "      <td>-1.056880</td>\n",
              "      <td>-0.971267</td>\n",
              "      <td>-0.723136</td>\n",
              "      <td>0.0</td>\n",
              "      <td>1.0</td>\n",
              "      <td>0.0</td>\n",
              "      <td>0.0</td>\n",
              "      <td>0.0</td>\n",
              "      <td>0.0</td>\n",
              "    </tr>\n",
              "    <tr>\n",
              "      <th>1</th>\n",
              "      <td>-0.151713</td>\n",
              "      <td>0.608759</td>\n",
              "      <td>0.302520</td>\n",
              "      <td>0.0</td>\n",
              "      <td>0.0</td>\n",
              "      <td>1.0</td>\n",
              "      <td>0.0</td>\n",
              "      <td>0.0</td>\n",
              "      <td>0.0</td>\n",
              "    </tr>\n",
              "    <tr>\n",
              "      <th>2</th>\n",
              "      <td>-0.802619</td>\n",
              "      <td>-0.971267</td>\n",
              "      <td>-0.457225</td>\n",
              "      <td>1.0</td>\n",
              "      <td>0.0</td>\n",
              "      <td>0.0</td>\n",
              "      <td>0.0</td>\n",
              "      <td>0.0</td>\n",
              "      <td>0.0</td>\n",
              "    </tr>\n",
              "    <tr>\n",
              "      <th>3</th>\n",
              "      <td>1.434871</td>\n",
              "      <td>0.680578</td>\n",
              "      <td>2.049934</td>\n",
              "      <td>0.0</td>\n",
              "      <td>0.0</td>\n",
              "      <td>1.0</td>\n",
              "      <td>0.0</td>\n",
              "      <td>0.0</td>\n",
              "      <td>0.0</td>\n",
              "    </tr>\n",
              "    <tr>\n",
              "      <th>4</th>\n",
              "      <td>1.150100</td>\n",
              "      <td>-0.288983</td>\n",
              "      <td>0.131578</td>\n",
              "      <td>1.0</td>\n",
              "      <td>0.0</td>\n",
              "      <td>0.0</td>\n",
              "      <td>0.0</td>\n",
              "      <td>0.0</td>\n",
              "      <td>0.0</td>\n",
              "    </tr>\n",
              "  </tbody>\n",
              "</table>\n",
              "</div>"
            ],
            "text/plain": [
              "   beer_servings  spirit_servings  wine_servings  continent_Africa  \\\n",
              "0      -1.056880        -0.971267      -0.723136               0.0   \n",
              "1      -0.151713         0.608759       0.302520               0.0   \n",
              "2      -0.802619        -0.971267      -0.457225               1.0   \n",
              "3       1.434871         0.680578       2.049934               0.0   \n",
              "4       1.150100        -0.288983       0.131578               1.0   \n",
              "\n",
              "   continent_Asia  continent_Europe  continent_North America  \\\n",
              "0             1.0               0.0                      0.0   \n",
              "1             0.0               1.0                      0.0   \n",
              "2             0.0               0.0                      0.0   \n",
              "3             0.0               1.0                      0.0   \n",
              "4             0.0               0.0                      0.0   \n",
              "\n",
              "   continent_Oceania  continent_South America  \n",
              "0                0.0                      0.0  \n",
              "1                0.0                      0.0  \n",
              "2                0.0                      0.0  \n",
              "3                0.0                      0.0  \n",
              "4                0.0                      0.0  "
            ]
          },
          "execution_count": 68,
          "metadata": {},
          "output_type": "execute_result"
        }
      ],
      "source": [
        "X.head()"
      ]
    },
    {
      "cell_type": "code",
      "execution_count": null,
      "id": "e3233e30-c592-4e61-a890-f55259f1db42",
      "metadata": {
        "id": "e3233e30-c592-4e61-a890-f55259f1db42",
        "outputId": "8cf4f617-dfe0-4ff2-a2e0-eb96a5447e8f"
      },
      "outputs": [
        {
          "data": {
            "text/plain": [
              "0     0.0\n",
              "1     4.9\n",
              "2     0.7\n",
              "3    12.4\n",
              "4     5.9\n",
              "Name: total_litres_of_pure_alcohol, dtype: float64"
            ]
          },
          "execution_count": 70,
          "metadata": {},
          "output_type": "execute_result"
        }
      ],
      "source": [
        "y.head()"
      ]
    },
    {
      "cell_type": "code",
      "execution_count": null,
      "id": "b92e5dbb-d8ee-438e-9bd3-890a2a374de1",
      "metadata": {
        "id": "b92e5dbb-d8ee-438e-9bd3-890a2a374de1",
        "outputId": "7d824837-59a1-4bee-f0da-6c8f92a002d1"
      },
      "outputs": [
        {
          "data": {
            "text/plain": [
              "(154, 9)"
            ]
          },
          "execution_count": 74,
          "metadata": {},
          "output_type": "execute_result"
        }
      ],
      "source": [
        "X_train.shape"
      ]
    },
    {
      "cell_type": "code",
      "execution_count": null,
      "id": "4995cbd7-22c0-4557-81eb-187e14f96250",
      "metadata": {
        "id": "4995cbd7-22c0-4557-81eb-187e14f96250",
        "outputId": "e4b77a49-354c-41e2-c1e5-dc4eff9a69a9"
      },
      "outputs": [
        {
          "data": {
            "text/plain": [
              "154.4"
            ]
          },
          "execution_count": 76,
          "metadata": {},
          "output_type": "execute_result"
        }
      ],
      "source": [
        "193*0.8"
      ]
    },
    {
      "cell_type": "code",
      "execution_count": null,
      "id": "1077089a-92a8-4449-b530-d9e42c518cb9",
      "metadata": {
        "id": "1077089a-92a8-4449-b530-d9e42c518cb9",
        "outputId": "5551e44f-4e6a-4c32-e6dd-837640c7596b"
      },
      "outputs": [
        {
          "data": {
            "text/plain": [
              "38.6"
            ]
          },
          "execution_count": 78,
          "metadata": {},
          "output_type": "execute_result"
        }
      ],
      "source": [
        "193*0.2"
      ]
    },
    {
      "cell_type": "code",
      "execution_count": null,
      "id": "3ae979fd-b5a3-4a39-81a3-ae10cd4ef114",
      "metadata": {
        "id": "3ae979fd-b5a3-4a39-81a3-ae10cd4ef114",
        "outputId": "44111d3d-6669-4a98-fa61-b008222ad392"
      },
      "outputs": [
        {
          "data": {
            "text/plain": [
              "(39, 9)"
            ]
          },
          "execution_count": 80,
          "metadata": {},
          "output_type": "execute_result"
        }
      ],
      "source": [
        "X_test.shape"
      ]
    },
    {
      "cell_type": "code",
      "execution_count": null,
      "id": "6b2b69f9-8027-48c9-9536-ef4102cc2cb3",
      "metadata": {
        "id": "6b2b69f9-8027-48c9-9536-ef4102cc2cb3"
      },
      "outputs": [],
      "source": [
        "# Train Linear Regression Model\n",
        "lr_model = LinearRegression()\n",
        "lr_model.fit(X_train, y_train)\n",
        "lr_predictions = lr_model.predict(X_test)"
      ]
    },
    {
      "cell_type": "code",
      "execution_count": null,
      "id": "5c122263-d048-432d-a13d-9de96c620216",
      "metadata": {
        "id": "5c122263-d048-432d-a13d-9de96c620216"
      },
      "outputs": [],
      "source": [
        "# Function to evaluate model\n",
        "def evaluate_model(y_actual, y_pred, model_name):\n",
        "    print(f\"{model_name} Performance:\")\n",
        "    print(\"MAE:\", mean_absolute_error(y_actual, y_pred))\n",
        "    print(\"MSE:\", mean_squared_error(y_actual, y_pred))\n",
        "    print(\"R2 Score:\", r2_score(y_actual, y_pred))\n",
        "    print(\"\\n\")"
      ]
    },
    {
      "cell_type": "code",
      "execution_count": null,
      "id": "e2b482f2-4730-4670-b68c-75135a044c32",
      "metadata": {
        "id": "e2b482f2-4730-4670-b68c-75135a044c32",
        "outputId": "13b6e569-0b75-4b8c-a4b3-88e49e1ebb0c"
      },
      "outputs": [
        {
          "name": "stdout",
          "output_type": "stream",
          "text": [
            "Linear Regression Performance:\n",
            "MAE: 0.882994312786772\n",
            "MSE: 2.0777361370626717\n",
            "R2 Score: 0.9019077920206002\n",
            "\n",
            "\n"
          ]
        }
      ],
      "source": [
        "evaluate_model(y_test, lr_predictions, \"Linear Regression\")"
      ]
    },
    {
      "cell_type": "code",
      "execution_count": null,
      "id": "0b807daf-34bf-4325-9a62-272229497d6b",
      "metadata": {
        "id": "0b807daf-34bf-4325-9a62-272229497d6b"
      },
      "outputs": [],
      "source": [
        "# Function to visualize actual vs predicted values\n",
        "def visualize_predictions(y_actual, y_pred, model_name):\n",
        "    results_df = pd.DataFrame({'Actual': y_actual.values, 'Predicted': y_pred})\n",
        "    print(results_df.head(10))\n",
        "\n",
        "    plt.figure(figsize=(8,5))\n",
        "    sns.scatterplot(x=y_actual, y=y_pred, color='blue', alpha=0.6)\n",
        "    plt.plot([y_actual.min(), y_actual.max()], [y_actual.min(), y_actual.max()], color='red', linestyle='--')\n",
        "    plt.xlabel(\"Actual Values\")\n",
        "    plt.ylabel(\"Predicted Values\")\n",
        "    plt.title(f\"Actual vs Predicted - {model_name}\")\n",
        "    plt.show()"
      ]
    },
    {
      "cell_type": "code",
      "execution_count": null,
      "id": "f3fb3ca1-5a60-4f73-b23a-0b49b6b8d760",
      "metadata": {
        "id": "f3fb3ca1-5a60-4f73-b23a-0b49b6b8d760",
        "outputId": "cca498eb-93ea-42b0-abec-bf764b4cfc60"
      },
      "outputs": [
        {
          "name": "stdout",
          "output_type": "stream",
          "text": [
            "   Actual  Predicted\n",
            "0    11.8  12.859447\n",
            "1     0.9   1.289584\n",
            "2     6.6   4.703111\n",
            "3    10.1  10.033329\n",
            "4     4.9   6.087585\n",
            "5     4.1   5.815101\n",
            "6    14.4   8.884348\n",
            "7     1.1   2.341789\n",
            "8    10.5  10.668055\n",
            "9     9.7  10.247724\n"
          ]
        },
        {
          "data": {
            "image/png": "[encoded data removed]",
            "text/plain": [
              "<Figure size 800x500 with 1 Axes>"
            ]
          },
          "metadata": {},
          "output_type": "display_data"
        }
      ],
      "source": [
        "visualize_predictions(y_test, lr_predictions, \"Linear Regression\")"
      ]
    },
    {
      "cell_type": "code",
      "execution_count": null,
      "id": "8c9ff889-5a25-4aa5-a349-10bda49cce1d",
      "metadata": {
        "id": "8c9ff889-5a25-4aa5-a349-10bda49cce1d"
      },
      "outputs": [],
      "source": [
        "# 120, 150, 80, Europe\n",
        "\n",
        "# Predicting for unseen data\n",
        "unseen_data = pd.DataFrame([[120, 150, 80, \"Europe\"]],\n",
        "                           columns=['beer_servings', 'spirit_servings', 'wine_servings', 'continent'])"
      ]
    },
    {
      "cell_type": "code",
      "execution_count": null,
      "id": "45a3583d-d377-4134-b7ed-a41ea71794e1",
      "metadata": {
        "id": "45a3583d-d377-4134-b7ed-a41ea71794e1",
        "outputId": "a284d1d0-d814-4174-8a16-018ed62dafd1"
      },
      "outputs": [
        {
          "data": {
            "text/html": [
              "<div>\n",
              "<style scoped>\n",
              "    .dataframe tbody tr th:only-of-type {\n",
              "        vertical-align: middle;\n",
              "    }\n",
              "\n",
              "    .dataframe tbody tr th {\n",
              "        vertical-align: top;\n",
              "    }\n",
              "\n",
              "    .dataframe thead th {\n",
              "        text-align: right;\n",
              "    }\n",
              "</style>\n",
              "<table border=\"1\" class=\"dataframe\">\n",
              "  <thead>\n",
              "    <tr style=\"text-align: right;\">\n",
              "      <th></th>\n",
              "      <th>beer_servings</th>\n",
              "      <th>spirit_servings</th>\n",
              "      <th>wine_servings</th>\n",
              "      <th>continent</th>\n",
              "    </tr>\n",
              "  </thead>\n",
              "  <tbody>\n",
              "    <tr>\n",
              "      <th>0</th>\n",
              "      <td>120</td>\n",
              "      <td>150</td>\n",
              "      <td>80</td>\n",
              "      <td>Europe</td>\n",
              "    </tr>\n",
              "  </tbody>\n",
              "</table>\n",
              "</div>"
            ],
            "text/plain": [
              "   beer_servings  spirit_servings  wine_servings continent\n",
              "0            120              150             80    Europe"
            ]
          },
          "execution_count": 96,
          "metadata": {},
          "output_type": "execute_result"
        }
      ],
      "source": [
        "# Predicting for unseen data\n",
        "unseen_data"
      ]
    },
    {
      "cell_type": "code",
      "execution_count": null,
      "id": "e3d0c737-577c-4dcb-9067-c6867f637d06",
      "metadata": {
        "id": "e3d0c737-577c-4dcb-9067-c6867f637d06"
      },
      "outputs": [],
      "source": [
        "# Encoding unseen data\n",
        "encoded_unseen = encoder.transform(unseen_data[['continent']]).toarray()\n",
        "unseen_data_encoded = pd.DataFrame(encoded_unseen, columns=encoder.get_feature_names_out(['continent']))\n",
        "unseen_data = pd.concat([unseen_data.drop(columns=['continent']), unseen_data_encoded], axis=1)"
      ]
    },
    {
      "cell_type": "code",
      "execution_count": null,
      "id": "a4354f14-98b4-4ade-ad8a-40952f5528b2",
      "metadata": {
        "id": "a4354f14-98b4-4ade-ad8a-40952f5528b2",
        "outputId": "b150a009-b3c8-4b2b-cb99-f8c27410eba4"
      },
      "outputs": [
        {
          "data": {
            "text/html": [
              "<div>\n",
              "<style scoped>\n",
              "    .dataframe tbody tr th:only-of-type {\n",
              "        vertical-align: middle;\n",
              "    }\n",
              "\n",
              "    .dataframe tbody tr th {\n",
              "        vertical-align: top;\n",
              "    }\n",
              "\n",
              "    .dataframe thead th {\n",
              "        text-align: right;\n",
              "    }\n",
              "</style>\n",
              "<table border=\"1\" class=\"dataframe\">\n",
              "  <thead>\n",
              "    <tr style=\"text-align: right;\">\n",
              "      <th></th>\n",
              "      <th>beer_servings</th>\n",
              "      <th>spirit_servings</th>\n",
              "      <th>wine_servings</th>\n",
              "      <th>continent_Africa</th>\n",
              "      <th>continent_Asia</th>\n",
              "      <th>continent_Europe</th>\n",
              "      <th>continent_North America</th>\n",
              "      <th>continent_Oceania</th>\n",
              "      <th>continent_South America</th>\n",
              "    </tr>\n",
              "  </thead>\n",
              "  <tbody>\n",
              "    <tr>\n",
              "      <th>0</th>\n",
              "      <td>120</td>\n",
              "      <td>150</td>\n",
              "      <td>80</td>\n",
              "      <td>0.0</td>\n",
              "      <td>0.0</td>\n",
              "      <td>1.0</td>\n",
              "      <td>0.0</td>\n",
              "      <td>0.0</td>\n",
              "      <td>0.0</td>\n",
              "    </tr>\n",
              "  </tbody>\n",
              "</table>\n",
              "</div>"
            ],
            "text/plain": [
              "   beer_servings  spirit_servings  wine_servings  continent_Africa  \\\n",
              "0            120              150             80               0.0   \n",
              "\n",
              "   continent_Asia  continent_Europe  continent_North America  \\\n",
              "0             0.0               1.0                      0.0   \n",
              "\n",
              "   continent_Oceania  continent_South America  \n",
              "0                0.0                      0.0  "
            ]
          },
          "execution_count": 100,
          "metadata": {},
          "output_type": "execute_result"
        }
      ],
      "source": [
        "unseen_data"
      ]
    },
    {
      "cell_type": "code",
      "execution_count": null,
      "id": "5cb77efe-4b8f-4aaf-b8f5-cacf3638ed81",
      "metadata": {
        "id": "5cb77efe-4b8f-4aaf-b8f5-cacf3638ed81",
        "outputId": "3001c57e-9933-4e8b-8f6d-5d8be81d2fe1"
      },
      "outputs": [
        {
          "data": {
            "text/html": [
              "<div>\n",
              "<style scoped>\n",
              "    .dataframe tbody tr th:only-of-type {\n",
              "        vertical-align: middle;\n",
              "    }\n",
              "\n",
              "    .dataframe tbody tr th {\n",
              "        vertical-align: top;\n",
              "    }\n",
              "\n",
              "    .dataframe thead th {\n",
              "        text-align: right;\n",
              "    }\n",
              "</style>\n",
              "<table border=\"1\" class=\"dataframe\">\n",
              "  <thead>\n",
              "    <tr style=\"text-align: right;\">\n",
              "      <th></th>\n",
              "      <th>beer_servings</th>\n",
              "      <th>spirit_servings</th>\n",
              "      <th>wine_servings</th>\n",
              "      <th>continent_Africa</th>\n",
              "      <th>continent_Asia</th>\n",
              "      <th>continent_Europe</th>\n",
              "      <th>continent_North America</th>\n",
              "      <th>continent_Oceania</th>\n",
              "      <th>continent_South America</th>\n",
              "    </tr>\n",
              "  </thead>\n",
              "  <tbody>\n",
              "    <tr>\n",
              "      <th>0</th>\n",
              "      <td>0.16357</td>\n",
              "      <td>0.824217</td>\n",
              "      <td>0.796354</td>\n",
              "      <td>0.0</td>\n",
              "      <td>0.0</td>\n",
              "      <td>1.0</td>\n",
              "      <td>0.0</td>\n",
              "      <td>0.0</td>\n",
              "      <td>0.0</td>\n",
              "    </tr>\n",
              "  </tbody>\n",
              "</table>\n",
              "</div>"
            ],
            "text/plain": [
              "   beer_servings  spirit_servings  wine_servings  continent_Africa  \\\n",
              "0        0.16357         0.824217       0.796354               0.0   \n",
              "\n",
              "   continent_Asia  continent_Europe  continent_North America  \\\n",
              "0             0.0               1.0                      0.0   \n",
              "\n",
              "   continent_Oceania  continent_South America  \n",
              "0                0.0                      0.0  "
            ]
          },
          "execution_count": 102,
          "metadata": {},
          "output_type": "execute_result"
        }
      ],
      "source": [
        "# Apply Feature Scaling\n",
        "unseen_data[numerical_columns] = scaler.transform(unseen_data[numerical_columns])\n",
        "unseen_data"
      ]
    },
    {
      "cell_type": "code",
      "execution_count": null,
      "id": "dcc0bcab-944b-4ca3-92c3-d9ece2de0df1",
      "metadata": {
        "id": "dcc0bcab-944b-4ca3-92c3-d9ece2de0df1",
        "outputId": "22773645-0a18-464d-ae57-abb0f77925c8"
      },
      "outputs": [
        {
          "name": "stdout",
          "output_type": "stream",
          "text": [
            "Predicted Value for Unseen Data: [6.93126159]\n"
          ]
        }
      ],
      "source": [
        "# Make prediction\n",
        "unseen_prediction = lr_model.predict(unseen_data)\n",
        "print(\"Predicted Value for Unseen Data:\", unseen_prediction)"
      ]
    },
    {
      "cell_type": "code",
      "execution_count": null,
      "id": "1d8e6f65-fcdb-4f41-86e1-e361816546e8",
      "metadata": {
        "id": "1d8e6f65-fcdb-4f41-86e1-e361816546e8"
      },
      "outputs": [],
      "source": []
    }
  ],
  "metadata": {
    "kernelspec": {
      "display_name": "Python 3 (ipykernel)",
      "language": "python",
      "name": "python3"
    },
    "language_info": {
      "codemirror_mode": {
        "name": "ipython",
        "version": 3
      },
      "file_extension": ".py",
      "mimetype": "text/x-python",
      "name": "python",
      "nbconvert_exporter": "python",
      "pygments_lexer": "ipython3",
      "version": "3.12.4"
    },
    "colab": {
      "provenance": []
    }
  },
  "nbformat": 4,
  "nbformat_minor": 5
}