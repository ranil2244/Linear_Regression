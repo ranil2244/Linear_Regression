{
  "cells": [
    {
      "cell_type": "code",
      "execution_count": null,
      "id": "7bc03031-dc1d-4fb7-a855-1c23342fef71",
      "metadata": {
        "id": "7bc03031-dc1d-4fb7-a855-1c23342fef71"
      },
      "outputs": [],
      "source": [
        "# importing the necessary libraries\n",
        "import pandas as pd\n",
        "import numpy as np\n",
        "import seaborn as sns\n",
        "import matplotlib.pyplot as plt"
      ]
    },
    {
      "cell_type": "code",
      "execution_count": null,
      "id": "23e2ad29-40d8-4f45-a26b-43792d4b6780",
      "metadata": {
        "id": "23e2ad29-40d8-4f45-a26b-43792d4b6780"
      },
      "outputs": [],
      "source": [
        "# for xtrain and x test splitting\n",
        "from sklearn.model_selection import train_test_split\n",
        "\n",
        "# for scaling\n",
        "from sklearn.preprocessing import StandardScaler, OneHotEncoder\n",
        "\n",
        "# for feature selection\n",
        "from sklearn.feature_selection import SelectKBest, f_classif\n",
        "\n",
        "# for column transformation\n",
        "from sklearn.compose import ColumnTransformer\n",
        "\n",
        "#pipeline\n",
        "from sklearn.pipeline import Pipeline"
      ]
    },
    {
      "cell_type": "code",
      "execution_count": null,
      "id": "e7481bbc-e084-4e44-a7a6-22b54daa9c6c",
      "metadata": {
        "id": "e7481bbc-e084-4e44-a7a6-22b54daa9c6c",
        "outputId": "5b23a3f6-e087-439d-d149-d443a2c391a5"
      },
      "outputs": [
        {
          "data": {
            "text/html": [
              "<div>\n",
              "<style scoped>\n",
              "    .dataframe tbody tr th:only-of-type {\n",
              "        vertical-align: middle;\n",
              "    }\n",
              "\n",
              "    .dataframe tbody tr th {\n",
              "        vertical-align: top;\n",
              "    }\n",
              "\n",
              "    .dataframe thead th {\n",
              "        text-align: right;\n",
              "    }\n",
              "</style>\n",
              "<table border=\"1\" class=\"dataframe\">\n",
              "  <thead>\n",
              "    <tr style=\"text-align: right;\">\n",
              "      <th></th>\n",
              "      <th>Category</th>\n",
              "    </tr>\n",
              "  </thead>\n",
              "  <tbody>\n",
              "    <tr>\n",
              "      <th>0</th>\n",
              "      <td>A</td>\n",
              "    </tr>\n",
              "    <tr>\n",
              "      <th>1</th>\n",
              "      <td>B</td>\n",
              "    </tr>\n",
              "    <tr>\n",
              "      <th>2</th>\n",
              "      <td>C</td>\n",
              "    </tr>\n",
              "    <tr>\n",
              "      <th>3</th>\n",
              "      <td>D</td>\n",
              "    </tr>\n",
              "    <tr>\n",
              "      <th>4</th>\n",
              "      <td>A</td>\n",
              "    </tr>\n",
              "    <tr>\n",
              "      <th>5</th>\n",
              "      <td>B</td>\n",
              "    </tr>\n",
              "    <tr>\n",
              "      <th>6</th>\n",
              "      <td>D</td>\n",
              "    </tr>\n",
              "    <tr>\n",
              "      <th>7</th>\n",
              "      <td>C</td>\n",
              "    </tr>\n",
              "    <tr>\n",
              "      <th>8</th>\n",
              "      <td>C</td>\n",
              "    </tr>\n",
              "  </tbody>\n",
              "</table>\n",
              "</div>"
            ],
            "text/plain": [
              "  Category\n",
              "0        A\n",
              "1        B\n",
              "2        C\n",
              "3        D\n",
              "4        A\n",
              "5        B\n",
              "6        D\n",
              "7        C\n",
              "8        C"
            ]
          },
          "execution_count": 109,
          "metadata": {},
          "output_type": "execute_result"
        }
      ],
      "source": [
        "# Simple encoding\n",
        "# 1. Label Encoder\n",
        "# 2. One hot encoder\n",
        "\n",
        "# creating a dataframe\n",
        "data = {'Category':['A','B','C','D','A','B','D','C','C']}\n",
        "# CONVERTING this dictionary to DataFrame\n",
        "\n",
        "df = pd.DataFrame(data)\n",
        "df"
      ]
    },
    {
      "cell_type": "code",
      "execution_count": null,
      "id": "a1aa25a1-6420-460b-8e84-ad8ca2c05eb8",
      "metadata": {
        "id": "a1aa25a1-6420-460b-8e84-ad8ca2c05eb8"
      },
      "outputs": [],
      "source": [
        "# label Encoding\n",
        "# import library\n",
        "\n",
        "from sklearn.preprocessing import LabelEncoder"
      ]
    },
    {
      "cell_type": "code",
      "execution_count": null,
      "id": "c73638db-df6f-4b6f-915f-4e903bd27232",
      "metadata": {
        "id": "c73638db-df6f-4b6f-915f-4e903bd27232",
        "outputId": "a6e54765-2d5e-4f07-cafd-970a71cd4814"
      },
      "outputs": [
        {
          "data": {
            "text/html": [
              "<div>\n",
              "<style scoped>\n",
              "    .dataframe tbody tr th:only-of-type {\n",
              "        vertical-align: middle;\n",
              "    }\n",
              "\n",
              "    .dataframe tbody tr th {\n",
              "        vertical-align: top;\n",
              "    }\n",
              "\n",
              "    .dataframe thead th {\n",
              "        text-align: right;\n",
              "    }\n",
              "</style>\n",
              "<table border=\"1\" class=\"dataframe\">\n",
              "  <thead>\n",
              "    <tr style=\"text-align: right;\">\n",
              "      <th></th>\n",
              "      <th>Category</th>\n",
              "      <th>encoded_category</th>\n",
              "    </tr>\n",
              "  </thead>\n",
              "  <tbody>\n",
              "    <tr>\n",
              "      <th>0</th>\n",
              "      <td>A</td>\n",
              "      <td>0</td>\n",
              "    </tr>\n",
              "    <tr>\n",
              "      <th>1</th>\n",
              "      <td>B</td>\n",
              "      <td>1</td>\n",
              "    </tr>\n",
              "    <tr>\n",
              "      <th>2</th>\n",
              "      <td>C</td>\n",
              "      <td>2</td>\n",
              "    </tr>\n",
              "    <tr>\n",
              "      <th>3</th>\n",
              "      <td>D</td>\n",
              "      <td>3</td>\n",
              "    </tr>\n",
              "    <tr>\n",
              "      <th>4</th>\n",
              "      <td>A</td>\n",
              "      <td>0</td>\n",
              "    </tr>\n",
              "    <tr>\n",
              "      <th>5</th>\n",
              "      <td>B</td>\n",
              "      <td>1</td>\n",
              "    </tr>\n",
              "    <tr>\n",
              "      <th>6</th>\n",
              "      <td>D</td>\n",
              "      <td>3</td>\n",
              "    </tr>\n",
              "    <tr>\n",
              "      <th>7</th>\n",
              "      <td>C</td>\n",
              "      <td>2</td>\n",
              "    </tr>\n",
              "    <tr>\n",
              "      <th>8</th>\n",
              "      <td>C</td>\n",
              "      <td>2</td>\n",
              "    </tr>\n",
              "  </tbody>\n",
              "</table>\n",
              "</div>"
            ],
            "text/plain": [
              "  Category  encoded_category\n",
              "0        A                 0\n",
              "1        B                 1\n",
              "2        C                 2\n",
              "3        D                 3\n",
              "4        A                 0\n",
              "5        B                 1\n",
              "6        D                 3\n",
              "7        C                 2\n",
              "8        C                 2"
            ]
          },
          "execution_count": 111,
          "metadata": {},
          "output_type": "execute_result"
        }
      ],
      "source": [
        "l_e = LabelEncoder()\n",
        "\n",
        "df['encoded_category'] = l_e.fit_transform(df['Category'])\n",
        "df"
      ]
    },
    {
      "cell_type": "code",
      "execution_count": null,
      "id": "8c6c78b7-bde6-44b4-802a-16f38eee555a",
      "metadata": {
        "id": "8c6c78b7-bde6-44b4-802a-16f38eee555a",
        "outputId": "530aa8e1-9c92-43eb-fa10-da6329fa37e4"
      },
      "outputs": [
        {
          "data": {
            "text/html": [
              "<div>\n",
              "<style scoped>\n",
              "    .dataframe tbody tr th:only-of-type {\n",
              "        vertical-align: middle;\n",
              "    }\n",
              "\n",
              "    .dataframe tbody tr th {\n",
              "        vertical-align: top;\n",
              "    }\n",
              "\n",
              "    .dataframe thead th {\n",
              "        text-align: right;\n",
              "    }\n",
              "</style>\n",
              "<table border=\"1\" class=\"dataframe\">\n",
              "  <thead>\n",
              "    <tr style=\"text-align: right;\">\n",
              "      <th></th>\n",
              "      <th>Category</th>\n",
              "      <th>encoded_category</th>\n",
              "      <th>m_enc_cat</th>\n",
              "    </tr>\n",
              "  </thead>\n",
              "  <tbody>\n",
              "    <tr>\n",
              "      <th>0</th>\n",
              "      <td>A</td>\n",
              "      <td>0</td>\n",
              "      <td>10</td>\n",
              "    </tr>\n",
              "    <tr>\n",
              "      <th>1</th>\n",
              "      <td>B</td>\n",
              "      <td>1</td>\n",
              "      <td>20</td>\n",
              "    </tr>\n",
              "    <tr>\n",
              "      <th>2</th>\n",
              "      <td>C</td>\n",
              "      <td>2</td>\n",
              "      <td>30</td>\n",
              "    </tr>\n",
              "    <tr>\n",
              "      <th>3</th>\n",
              "      <td>D</td>\n",
              "      <td>3</td>\n",
              "      <td>40</td>\n",
              "    </tr>\n",
              "    <tr>\n",
              "      <th>4</th>\n",
              "      <td>A</td>\n",
              "      <td>0</td>\n",
              "      <td>10</td>\n",
              "    </tr>\n",
              "    <tr>\n",
              "      <th>5</th>\n",
              "      <td>B</td>\n",
              "      <td>1</td>\n",
              "      <td>20</td>\n",
              "    </tr>\n",
              "    <tr>\n",
              "      <th>6</th>\n",
              "      <td>D</td>\n",
              "      <td>3</td>\n",
              "      <td>40</td>\n",
              "    </tr>\n",
              "    <tr>\n",
              "      <th>7</th>\n",
              "      <td>C</td>\n",
              "      <td>2</td>\n",
              "      <td>30</td>\n",
              "    </tr>\n",
              "    <tr>\n",
              "      <th>8</th>\n",
              "      <td>C</td>\n",
              "      <td>2</td>\n",
              "      <td>30</td>\n",
              "    </tr>\n",
              "  </tbody>\n",
              "</table>\n",
              "</div>"
            ],
            "text/plain": [
              "  Category  encoded_category  m_enc_cat\n",
              "0        A                 0         10\n",
              "1        B                 1         20\n",
              "2        C                 2         30\n",
              "3        D                 3         40\n",
              "4        A                 0         10\n",
              "5        B                 1         20\n",
              "6        D                 3         40\n",
              "7        C                 2         30\n",
              "8        C                 2         30"
            ]
          },
          "execution_count": 112,
          "metadata": {},
          "output_type": "execute_result"
        }
      ],
      "source": [
        "# Manual encoding\n",
        "m_ec = {'A':10,'B':20,'C':30,\"D\":40}\n",
        "df['m_enc_cat'] = df['Category'].map(m_ec)\n",
        "df"
      ]
    },
    {
      "cell_type": "code",
      "execution_count": null,
      "id": "b9e475f2-abcf-4622-bc21-3ab08dd63d93",
      "metadata": {
        "id": "b9e475f2-abcf-4622-bc21-3ab08dd63d93"
      },
      "outputs": [],
      "source": [
        "# One Hot Encoding\n",
        "o_enc = OneHotEncoder(sparse_output = False)\n",
        "o_h_Variable = o_enc.fit_transform(df[['Category']])"
      ]
    },
    {
      "cell_type": "code",
      "execution_count": null,
      "id": "b221dbef-f769-474b-b73a-4dc7ba37ff22",
      "metadata": {
        "id": "b221dbef-f769-474b-b73a-4dc7ba37ff22",
        "outputId": "2bd432f9-1844-474f-95f1-096448cea885"
      },
      "outputs": [
        {
          "data": {
            "text/html": [
              "<div>\n",
              "<style scoped>\n",
              "    .dataframe tbody tr th:only-of-type {\n",
              "        vertical-align: middle;\n",
              "    }\n",
              "\n",
              "    .dataframe tbody tr th {\n",
              "        vertical-align: top;\n",
              "    }\n",
              "\n",
              "    .dataframe thead th {\n",
              "        text-align: right;\n",
              "    }\n",
              "</style>\n",
              "<table border=\"1\" class=\"dataframe\">\n",
              "  <thead>\n",
              "    <tr style=\"text-align: right;\">\n",
              "      <th></th>\n",
              "      <th>Category</th>\n",
              "      <th>encoded_category</th>\n",
              "      <th>m_enc_cat</th>\n",
              "      <th>Category_A</th>\n",
              "      <th>Category_B</th>\n",
              "      <th>Category_C</th>\n",
              "      <th>Category_D</th>\n",
              "    </tr>\n",
              "  </thead>\n",
              "  <tbody>\n",
              "    <tr>\n",
              "      <th>0</th>\n",
              "      <td>A</td>\n",
              "      <td>0</td>\n",
              "      <td>10</td>\n",
              "      <td>1.0</td>\n",
              "      <td>0.0</td>\n",
              "      <td>0.0</td>\n",
              "      <td>0.0</td>\n",
              "    </tr>\n",
              "    <tr>\n",
              "      <th>1</th>\n",
              "      <td>B</td>\n",
              "      <td>1</td>\n",
              "      <td>20</td>\n",
              "      <td>0.0</td>\n",
              "      <td>1.0</td>\n",
              "      <td>0.0</td>\n",
              "      <td>0.0</td>\n",
              "    </tr>\n",
              "    <tr>\n",
              "      <th>2</th>\n",
              "      <td>C</td>\n",
              "      <td>2</td>\n",
              "      <td>30</td>\n",
              "      <td>0.0</td>\n",
              "      <td>0.0</td>\n",
              "      <td>1.0</td>\n",
              "      <td>0.0</td>\n",
              "    </tr>\n",
              "    <tr>\n",
              "      <th>3</th>\n",
              "      <td>D</td>\n",
              "      <td>3</td>\n",
              "      <td>40</td>\n",
              "      <td>0.0</td>\n",
              "      <td>0.0</td>\n",
              "      <td>0.0</td>\n",
              "      <td>1.0</td>\n",
              "    </tr>\n",
              "    <tr>\n",
              "      <th>4</th>\n",
              "      <td>A</td>\n",
              "      <td>0</td>\n",
              "      <td>10</td>\n",
              "      <td>1.0</td>\n",
              "      <td>0.0</td>\n",
              "      <td>0.0</td>\n",
              "      <td>0.0</td>\n",
              "    </tr>\n",
              "    <tr>\n",
              "      <th>5</th>\n",
              "      <td>B</td>\n",
              "      <td>1</td>\n",
              "      <td>20</td>\n",
              "      <td>0.0</td>\n",
              "      <td>1.0</td>\n",
              "      <td>0.0</td>\n",
              "      <td>0.0</td>\n",
              "    </tr>\n",
              "    <tr>\n",
              "      <th>6</th>\n",
              "      <td>D</td>\n",
              "      <td>3</td>\n",
              "      <td>40</td>\n",
              "      <td>0.0</td>\n",
              "      <td>0.0</td>\n",
              "      <td>0.0</td>\n",
              "      <td>1.0</td>\n",
              "    </tr>\n",
              "    <tr>\n",
              "      <th>7</th>\n",
              "      <td>C</td>\n",
              "      <td>2</td>\n",
              "      <td>30</td>\n",
              "      <td>0.0</td>\n",
              "      <td>0.0</td>\n",
              "      <td>1.0</td>\n",
              "      <td>0.0</td>\n",
              "    </tr>\n",
              "    <tr>\n",
              "      <th>8</th>\n",
              "      <td>C</td>\n",
              "      <td>2</td>\n",
              "      <td>30</td>\n",
              "      <td>0.0</td>\n",
              "      <td>0.0</td>\n",
              "      <td>1.0</td>\n",
              "      <td>0.0</td>\n",
              "    </tr>\n",
              "  </tbody>\n",
              "</table>\n",
              "</div>"
            ],
            "text/plain": [
              "  Category  encoded_category  m_enc_cat  Category_A  Category_B  Category_C  \\\n",
              "0        A                 0         10         1.0         0.0         0.0   \n",
              "1        B                 1         20         0.0         1.0         0.0   \n",
              "2        C                 2         30         0.0         0.0         1.0   \n",
              "3        D                 3         40         0.0         0.0         0.0   \n",
              "4        A                 0         10         1.0         0.0         0.0   \n",
              "5        B                 1         20         0.0         1.0         0.0   \n",
              "6        D                 3         40         0.0         0.0         0.0   \n",
              "7        C                 2         30         0.0         0.0         1.0   \n",
              "8        C                 2         30         0.0         0.0         1.0   \n",
              "\n",
              "   Category_D  \n",
              "0         0.0  \n",
              "1         0.0  \n",
              "2         0.0  \n",
              "3         1.0  \n",
              "4         0.0  \n",
              "5         0.0  \n",
              "6         1.0  \n",
              "7         0.0  \n",
              "8         0.0  "
            ]
          },
          "execution_count": 114,
          "metadata": {},
          "output_type": "execute_result"
        }
      ],
      "source": [
        "# to get the dataframe back\n",
        "one_hot_df = pd.DataFrame(o_h_Variable, columns = [f'Category_{i}' for i in l_e.classes_])\n",
        "df = pd.concat([df, one_hot_df], axis = 1)\n",
        "df"
      ]
    },
    {
      "cell_type": "code",
      "execution_count": null,
      "id": "70f023a0-b8e6-4059-90db-984810aecc56",
      "metadata": {
        "id": "70f023a0-b8e6-4059-90db-984810aecc56"
      },
      "outputs": [],
      "source": [
        "# One hot encoding using get dummies\n",
        "df_get_dummies = pd.get_dummies(df['Category'], prefix = \"Category\")\n"
      ]
    },
    {
      "cell_type": "code",
      "execution_count": null,
      "id": "3f327623-a5da-4a9f-8a9b-38d93eab52ec",
      "metadata": {
        "id": "3f327623-a5da-4a9f-8a9b-38d93eab52ec",
        "outputId": "4fd7f674-315f-42a5-8638-de79657c0d53"
      },
      "outputs": [
        {
          "data": {
            "text/html": [
              "<div>\n",
              "<style scoped>\n",
              "    .dataframe tbody tr th:only-of-type {\n",
              "        vertical-align: middle;\n",
              "    }\n",
              "\n",
              "    .dataframe tbody tr th {\n",
              "        vertical-align: top;\n",
              "    }\n",
              "\n",
              "    .dataframe thead th {\n",
              "        text-align: right;\n",
              "    }\n",
              "</style>\n",
              "<table border=\"1\" class=\"dataframe\">\n",
              "  <thead>\n",
              "    <tr style=\"text-align: right;\">\n",
              "      <th></th>\n",
              "      <th>Category</th>\n",
              "      <th>encoded_category</th>\n",
              "      <th>m_enc_cat</th>\n",
              "      <th>Category_A</th>\n",
              "      <th>Category_B</th>\n",
              "      <th>Category_C</th>\n",
              "      <th>Category_D</th>\n",
              "      <th>Category_A</th>\n",
              "      <th>Category_B</th>\n",
              "      <th>Category_C</th>\n",
              "      <th>Category_D</th>\n",
              "    </tr>\n",
              "  </thead>\n",
              "  <tbody>\n",
              "    <tr>\n",
              "      <th>0</th>\n",
              "      <td>A</td>\n",
              "      <td>0</td>\n",
              "      <td>10</td>\n",
              "      <td>1.0</td>\n",
              "      <td>0.0</td>\n",
              "      <td>0.0</td>\n",
              "      <td>0.0</td>\n",
              "      <td>True</td>\n",
              "      <td>False</td>\n",
              "      <td>False</td>\n",
              "      <td>False</td>\n",
              "    </tr>\n",
              "    <tr>\n",
              "      <th>1</th>\n",
              "      <td>B</td>\n",
              "      <td>1</td>\n",
              "      <td>20</td>\n",
              "      <td>0.0</td>\n",
              "      <td>1.0</td>\n",
              "      <td>0.0</td>\n",
              "      <td>0.0</td>\n",
              "      <td>False</td>\n",
              "      <td>True</td>\n",
              "      <td>False</td>\n",
              "      <td>False</td>\n",
              "    </tr>\n",
              "    <tr>\n",
              "      <th>2</th>\n",
              "      <td>C</td>\n",
              "      <td>2</td>\n",
              "      <td>30</td>\n",
              "      <td>0.0</td>\n",
              "      <td>0.0</td>\n",
              "      <td>1.0</td>\n",
              "      <td>0.0</td>\n",
              "      <td>False</td>\n",
              "      <td>False</td>\n",
              "      <td>True</td>\n",
              "      <td>False</td>\n",
              "    </tr>\n",
              "    <tr>\n",
              "      <th>3</th>\n",
              "      <td>D</td>\n",
              "      <td>3</td>\n",
              "      <td>40</td>\n",
              "      <td>0.0</td>\n",
              "      <td>0.0</td>\n",
              "      <td>0.0</td>\n",
              "      <td>1.0</td>\n",
              "      <td>False</td>\n",
              "      <td>False</td>\n",
              "      <td>False</td>\n",
              "      <td>True</td>\n",
              "    </tr>\n",
              "    <tr>\n",
              "      <th>4</th>\n",
              "      <td>A</td>\n",
              "      <td>0</td>\n",
              "      <td>10</td>\n",
              "      <td>1.0</td>\n",
              "      <td>0.0</td>\n",
              "      <td>0.0</td>\n",
              "      <td>0.0</td>\n",
              "      <td>True</td>\n",
              "      <td>False</td>\n",
              "      <td>False</td>\n",
              "      <td>False</td>\n",
              "    </tr>\n",
              "    <tr>\n",
              "      <th>5</th>\n",
              "      <td>B</td>\n",
              "      <td>1</td>\n",
              "      <td>20</td>\n",
              "      <td>0.0</td>\n",
              "      <td>1.0</td>\n",
              "      <td>0.0</td>\n",
              "      <td>0.0</td>\n",
              "      <td>False</td>\n",
              "      <td>True</td>\n",
              "      <td>False</td>\n",
              "      <td>False</td>\n",
              "    </tr>\n",
              "    <tr>\n",
              "      <th>6</th>\n",
              "      <td>D</td>\n",
              "      <td>3</td>\n",
              "      <td>40</td>\n",
              "      <td>0.0</td>\n",
              "      <td>0.0</td>\n",
              "      <td>0.0</td>\n",
              "      <td>1.0</td>\n",
              "      <td>False</td>\n",
              "      <td>False</td>\n",
              "      <td>False</td>\n",
              "      <td>True</td>\n",
              "    </tr>\n",
              "    <tr>\n",
              "      <th>7</th>\n",
              "      <td>C</td>\n",
              "      <td>2</td>\n",
              "      <td>30</td>\n",
              "      <td>0.0</td>\n",
              "      <td>0.0</td>\n",
              "      <td>1.0</td>\n",
              "      <td>0.0</td>\n",
              "      <td>False</td>\n",
              "      <td>False</td>\n",
              "      <td>True</td>\n",
              "      <td>False</td>\n",
              "    </tr>\n",
              "    <tr>\n",
              "      <th>8</th>\n",
              "      <td>C</td>\n",
              "      <td>2</td>\n",
              "      <td>30</td>\n",
              "      <td>0.0</td>\n",
              "      <td>0.0</td>\n",
              "      <td>1.0</td>\n",
              "      <td>0.0</td>\n",
              "      <td>False</td>\n",
              "      <td>False</td>\n",
              "      <td>True</td>\n",
              "      <td>False</td>\n",
              "    </tr>\n",
              "  </tbody>\n",
              "</table>\n",
              "</div>"
            ],
            "text/plain": [
              "  Category  encoded_category  m_enc_cat  Category_A  Category_B  Category_C  \\\n",
              "0        A                 0         10         1.0         0.0         0.0   \n",
              "1        B                 1         20         0.0         1.0         0.0   \n",
              "2        C                 2         30         0.0         0.0         1.0   \n",
              "3        D                 3         40         0.0         0.0         0.0   \n",
              "4        A                 0         10         1.0         0.0         0.0   \n",
              "5        B                 1         20         0.0         1.0         0.0   \n",
              "6        D                 3         40         0.0         0.0         0.0   \n",
              "7        C                 2         30         0.0         0.0         1.0   \n",
              "8        C                 2         30         0.0         0.0         1.0   \n",
              "\n",
              "   Category_D  Category_A  Category_B  Category_C  Category_D  \n",
              "0         0.0        True       False       False       False  \n",
              "1         0.0       False        True       False       False  \n",
              "2         0.0       False       False        True       False  \n",
              "3         1.0       False       False       False        True  \n",
              "4         0.0        True       False       False       False  \n",
              "5         0.0       False        True       False       False  \n",
              "6         1.0       False       False       False        True  \n",
              "7         0.0       False       False        True       False  \n",
              "8         0.0       False       False        True       False  "
            ]
          },
          "execution_count": 116,
          "metadata": {},
          "output_type": "execute_result"
        }
      ],
      "source": [
        "df1 = pd.concat([df,df_get_dummies],axis = 1)\n",
        "df1"
      ]
    },
    {
      "cell_type": "code",
      "execution_count": null,
      "id": "d7db3854-10bb-42b7-87c5-3379c94227dd",
      "metadata": {
        "id": "d7db3854-10bb-42b7-87c5-3379c94227dd",
        "outputId": "f8c95e18-46b4-41a0-ea7a-76c577ebb18e"
      },
      "outputs": [
        {
          "data": {
            "text/html": [
              "<div>\n",
              "<style scoped>\n",
              "    .dataframe tbody tr th:only-of-type {\n",
              "        vertical-align: middle;\n",
              "    }\n",
              "\n",
              "    .dataframe tbody tr th {\n",
              "        vertical-align: top;\n",
              "    }\n",
              "\n",
              "    .dataframe thead th {\n",
              "        text-align: right;\n",
              "    }\n",
              "</style>\n",
              "<table border=\"1\" class=\"dataframe\">\n",
              "  <thead>\n",
              "    <tr style=\"text-align: right;\">\n",
              "      <th></th>\n",
              "      <th>PassengerId</th>\n",
              "      <th>Survived</th>\n",
              "      <th>Pclass</th>\n",
              "      <th>Name</th>\n",
              "      <th>Sex</th>\n",
              "      <th>Age</th>\n",
              "      <th>SibSp</th>\n",
              "      <th>Parch</th>\n",
              "      <th>Ticket</th>\n",
              "      <th>Fare</th>\n",
              "      <th>Cabin</th>\n",
              "      <th>Embarked</th>\n",
              "    </tr>\n",
              "  </thead>\n",
              "  <tbody>\n",
              "    <tr>\n",
              "      <th>0</th>\n",
              "      <td>1</td>\n",
              "      <td>0</td>\n",
              "      <td>3</td>\n",
              "      <td>Braund, Mr. Owen Harris</td>\n",
              "      <td>male</td>\n",
              "      <td>22.0</td>\n",
              "      <td>1</td>\n",
              "      <td>0</td>\n",
              "      <td>A/5 21171</td>\n",
              "      <td>7.2500</td>\n",
              "      <td>NaN</td>\n",
              "      <td>S</td>\n",
              "    </tr>\n",
              "    <tr>\n",
              "      <th>1</th>\n",
              "      <td>2</td>\n",
              "      <td>1</td>\n",
              "      <td>1</td>\n",
              "      <td>Cumings, Mrs. John Bradley (Florence Briggs Th...</td>\n",
              "      <td>female</td>\n",
              "      <td>38.0</td>\n",
              "      <td>1</td>\n",
              "      <td>0</td>\n",
              "      <td>PC 17599</td>\n",
              "      <td>71.2833</td>\n",
              "      <td>C85</td>\n",
              "      <td>C</td>\n",
              "    </tr>\n",
              "    <tr>\n",
              "      <th>2</th>\n",
              "      <td>3</td>\n",
              "      <td>1</td>\n",
              "      <td>3</td>\n",
              "      <td>Heikkinen, Miss. Laina</td>\n",
              "      <td>female</td>\n",
              "      <td>26.0</td>\n",
              "      <td>0</td>\n",
              "      <td>0</td>\n",
              "      <td>STON/O2. 3101282</td>\n",
              "      <td>7.9250</td>\n",
              "      <td>NaN</td>\n",
              "      <td>S</td>\n",
              "    </tr>\n",
              "    <tr>\n",
              "      <th>3</th>\n",
              "      <td>4</td>\n",
              "      <td>1</td>\n",
              "      <td>1</td>\n",
              "      <td>Futrelle, Mrs. Jacques Heath (Lily May Peel)</td>\n",
              "      <td>female</td>\n",
              "      <td>35.0</td>\n",
              "      <td>1</td>\n",
              "      <td>0</td>\n",
              "      <td>113803</td>\n",
              "      <td>53.1000</td>\n",
              "      <td>C123</td>\n",
              "      <td>S</td>\n",
              "    </tr>\n",
              "    <tr>\n",
              "      <th>4</th>\n",
              "      <td>5</td>\n",
              "      <td>0</td>\n",
              "      <td>3</td>\n",
              "      <td>Allen, Mr. William Henry</td>\n",
              "      <td>male</td>\n",
              "      <td>35.0</td>\n",
              "      <td>0</td>\n",
              "      <td>0</td>\n",
              "      <td>373450</td>\n",
              "      <td>8.0500</td>\n",
              "      <td>NaN</td>\n",
              "      <td>S</td>\n",
              "    </tr>\n",
              "    <tr>\n",
              "      <th>...</th>\n",
              "      <td>...</td>\n",
              "      <td>...</td>\n",
              "      <td>...</td>\n",
              "      <td>...</td>\n",
              "      <td>...</td>\n",
              "      <td>...</td>\n",
              "      <td>...</td>\n",
              "      <td>...</td>\n",
              "      <td>...</td>\n",
              "      <td>...</td>\n",
              "      <td>...</td>\n",
              "      <td>...</td>\n",
              "    </tr>\n",
              "    <tr>\n",
              "      <th>886</th>\n",
              "      <td>887</td>\n",
              "      <td>0</td>\n",
              "      <td>2</td>\n",
              "      <td>Montvila, Rev. Juozas</td>\n",
              "      <td>male</td>\n",
              "      <td>27.0</td>\n",
              "      <td>0</td>\n",
              "      <td>0</td>\n",
              "      <td>211536</td>\n",
              "      <td>13.0000</td>\n",
              "      <td>NaN</td>\n",
              "      <td>S</td>\n",
              "    </tr>\n",
              "    <tr>\n",
              "      <th>887</th>\n",
              "      <td>888</td>\n",
              "      <td>1</td>\n",
              "      <td>1</td>\n",
              "      <td>Graham, Miss. Margaret Edith</td>\n",
              "      <td>female</td>\n",
              "      <td>19.0</td>\n",
              "      <td>0</td>\n",
              "      <td>0</td>\n",
              "      <td>112053</td>\n",
              "      <td>30.0000</td>\n",
              "      <td>B42</td>\n",
              "      <td>S</td>\n",
              "    </tr>\n",
              "    <tr>\n",
              "      <th>888</th>\n",
              "      <td>889</td>\n",
              "      <td>0</td>\n",
              "      <td>3</td>\n",
              "      <td>Johnston, Miss. Catherine Helen \"Carrie\"</td>\n",
              "      <td>female</td>\n",
              "      <td>NaN</td>\n",
              "      <td>1</td>\n",
              "      <td>2</td>\n",
              "      <td>W./C. 6607</td>\n",
              "      <td>23.4500</td>\n",
              "      <td>NaN</td>\n",
              "      <td>S</td>\n",
              "    </tr>\n",
              "    <tr>\n",
              "      <th>889</th>\n",
              "      <td>890</td>\n",
              "      <td>1</td>\n",
              "      <td>1</td>\n",
              "      <td>Behr, Mr. Karl Howell</td>\n",
              "      <td>male</td>\n",
              "      <td>26.0</td>\n",
              "      <td>0</td>\n",
              "      <td>0</td>\n",
              "      <td>111369</td>\n",
              "      <td>30.0000</td>\n",
              "      <td>C148</td>\n",
              "      <td>C</td>\n",
              "    </tr>\n",
              "    <tr>\n",
              "      <th>890</th>\n",
              "      <td>891</td>\n",
              "      <td>0</td>\n",
              "      <td>3</td>\n",
              "      <td>Dooley, Mr. Patrick</td>\n",
              "      <td>male</td>\n",
              "      <td>32.0</td>\n",
              "      <td>0</td>\n",
              "      <td>0</td>\n",
              "      <td>370376</td>\n",
              "      <td>7.7500</td>\n",
              "      <td>NaN</td>\n",
              "      <td>Q</td>\n",
              "    </tr>\n",
              "  </tbody>\n",
              "</table>\n",
              "<p>891 rows × 12 columns</p>\n",
              "</div>"
            ],
            "text/plain": [
              "     PassengerId  Survived  Pclass  \\\n",
              "0              1         0       3   \n",
              "1              2         1       1   \n",
              "2              3         1       3   \n",
              "3              4         1       1   \n",
              "4              5         0       3   \n",
              "..           ...       ...     ...   \n",
              "886          887         0       2   \n",
              "887          888         1       1   \n",
              "888          889         0       3   \n",
              "889          890         1       1   \n",
              "890          891         0       3   \n",
              "\n",
              "                                                  Name     Sex   Age  SibSp  \\\n",
              "0                              Braund, Mr. Owen Harris    male  22.0      1   \n",
              "1    Cumings, Mrs. John Bradley (Florence Briggs Th...  female  38.0      1   \n",
              "2                               Heikkinen, Miss. Laina  female  26.0      0   \n",
              "3         Futrelle, Mrs. Jacques Heath (Lily May Peel)  female  35.0      1   \n",
              "4                             Allen, Mr. William Henry    male  35.0      0   \n",
              "..                                                 ...     ...   ...    ...   \n",
              "886                              Montvila, Rev. Juozas    male  27.0      0   \n",
              "887                       Graham, Miss. Margaret Edith  female  19.0      0   \n",
              "888           Johnston, Miss. Catherine Helen \"Carrie\"  female   NaN      1   \n",
              "889                              Behr, Mr. Karl Howell    male  26.0      0   \n",
              "890                                Dooley, Mr. Patrick    male  32.0      0   \n",
              "\n",
              "     Parch            Ticket     Fare Cabin Embarked  \n",
              "0        0         A/5 21171   7.2500   NaN        S  \n",
              "1        0          PC 17599  71.2833   C85        C  \n",
              "2        0  STON/O2. 3101282   7.9250   NaN        S  \n",
              "3        0            113803  53.1000  C123        S  \n",
              "4        0            373450   8.0500   NaN        S  \n",
              "..     ...               ...      ...   ...      ...  \n",
              "886      0            211536  13.0000   NaN        S  \n",
              "887      0            112053  30.0000   B42        S  \n",
              "888      2        W./C. 6607  23.4500   NaN        S  \n",
              "889      0            111369  30.0000  C148        C  \n",
              "890      0            370376   7.7500   NaN        Q  \n",
              "\n",
              "[891 rows x 12 columns]"
            ]
          },
          "execution_count": 117,
          "metadata": {},
          "output_type": "execute_result"
        }
      ],
      "source": [
        "# loading the titanic dataset\n",
        "df = pd.read_csv('titanic.csv')\n",
        "df"
      ]
    },
    {
      "cell_type": "code",
      "execution_count": null,
      "id": "4386fa62-b4ba-4f58-9172-6d6aa532a55d",
      "metadata": {
        "id": "4386fa62-b4ba-4f58-9172-6d6aa532a55d",
        "outputId": "98998234-0db4-4be8-de84-920d71241462"
      },
      "outputs": [
        {
          "data": {
            "text/plain": [
              "PassengerId      0\n",
              "Survived         0\n",
              "Pclass           0\n",
              "Name             0\n",
              "Sex              0\n",
              "Age            177\n",
              "SibSp            0\n",
              "Parch            0\n",
              "Ticket           0\n",
              "Fare             0\n",
              "Cabin          687\n",
              "Embarked         2\n",
              "dtype: int64"
            ]
          },
          "execution_count": 118,
          "metadata": {},
          "output_type": "execute_result"
        }
      ],
      "source": [
        "# Checking for null values\n",
        "df.isnull().sum()"
      ]
    },
    {
      "cell_type": "code",
      "execution_count": null,
      "id": "e7ac1b70-ebf6-4bbe-b40a-df5be0d27f6a",
      "metadata": {
        "id": "e7ac1b70-ebf6-4bbe-b40a-df5be0d27f6a",
        "outputId": "55820770-39f0-49e5-f001-2763c52c9eef"
      },
      "outputs": [
        {
          "data": {
            "text/html": [
              "<div>\n",
              "<style scoped>\n",
              "    .dataframe tbody tr th:only-of-type {\n",
              "        vertical-align: middle;\n",
              "    }\n",
              "\n",
              "    .dataframe tbody tr th {\n",
              "        vertical-align: top;\n",
              "    }\n",
              "\n",
              "    .dataframe thead th {\n",
              "        text-align: right;\n",
              "    }\n",
              "</style>\n",
              "<table border=\"1\" class=\"dataframe\">\n",
              "  <thead>\n",
              "    <tr style=\"text-align: right;\">\n",
              "      <th></th>\n",
              "      <th>Survived</th>\n",
              "      <th>Pclass</th>\n",
              "      <th>Sex</th>\n",
              "      <th>Age</th>\n",
              "      <th>SibSp</th>\n",
              "      <th>Parch</th>\n",
              "      <th>Fare</th>\n",
              "      <th>Embarked</th>\n",
              "    </tr>\n",
              "  </thead>\n",
              "  <tbody>\n",
              "    <tr>\n",
              "      <th>0</th>\n",
              "      <td>0</td>\n",
              "      <td>3</td>\n",
              "      <td>male</td>\n",
              "      <td>22.0</td>\n",
              "      <td>1</td>\n",
              "      <td>0</td>\n",
              "      <td>7.2500</td>\n",
              "      <td>S</td>\n",
              "    </tr>\n",
              "    <tr>\n",
              "      <th>1</th>\n",
              "      <td>1</td>\n",
              "      <td>1</td>\n",
              "      <td>female</td>\n",
              "      <td>38.0</td>\n",
              "      <td>1</td>\n",
              "      <td>0</td>\n",
              "      <td>71.2833</td>\n",
              "      <td>C</td>\n",
              "    </tr>\n",
              "    <tr>\n",
              "      <th>2</th>\n",
              "      <td>1</td>\n",
              "      <td>3</td>\n",
              "      <td>female</td>\n",
              "      <td>26.0</td>\n",
              "      <td>0</td>\n",
              "      <td>0</td>\n",
              "      <td>7.9250</td>\n",
              "      <td>S</td>\n",
              "    </tr>\n",
              "    <tr>\n",
              "      <th>3</th>\n",
              "      <td>1</td>\n",
              "      <td>1</td>\n",
              "      <td>female</td>\n",
              "      <td>35.0</td>\n",
              "      <td>1</td>\n",
              "      <td>0</td>\n",
              "      <td>53.1000</td>\n",
              "      <td>S</td>\n",
              "    </tr>\n",
              "    <tr>\n",
              "      <th>4</th>\n",
              "      <td>0</td>\n",
              "      <td>3</td>\n",
              "      <td>male</td>\n",
              "      <td>35.0</td>\n",
              "      <td>0</td>\n",
              "      <td>0</td>\n",
              "      <td>8.0500</td>\n",
              "      <td>S</td>\n",
              "    </tr>\n",
              "    <tr>\n",
              "      <th>...</th>\n",
              "      <td>...</td>\n",
              "      <td>...</td>\n",
              "      <td>...</td>\n",
              "      <td>...</td>\n",
              "      <td>...</td>\n",
              "      <td>...</td>\n",
              "      <td>...</td>\n",
              "      <td>...</td>\n",
              "    </tr>\n",
              "    <tr>\n",
              "      <th>886</th>\n",
              "      <td>0</td>\n",
              "      <td>2</td>\n",
              "      <td>male</td>\n",
              "      <td>27.0</td>\n",
              "      <td>0</td>\n",
              "      <td>0</td>\n",
              "      <td>13.0000</td>\n",
              "      <td>S</td>\n",
              "    </tr>\n",
              "    <tr>\n",
              "      <th>887</th>\n",
              "      <td>1</td>\n",
              "      <td>1</td>\n",
              "      <td>female</td>\n",
              "      <td>19.0</td>\n",
              "      <td>0</td>\n",
              "      <td>0</td>\n",
              "      <td>30.0000</td>\n",
              "      <td>S</td>\n",
              "    </tr>\n",
              "    <tr>\n",
              "      <th>888</th>\n",
              "      <td>0</td>\n",
              "      <td>3</td>\n",
              "      <td>female</td>\n",
              "      <td>NaN</td>\n",
              "      <td>1</td>\n",
              "      <td>2</td>\n",
              "      <td>23.4500</td>\n",
              "      <td>S</td>\n",
              "    </tr>\n",
              "    <tr>\n",
              "      <th>889</th>\n",
              "      <td>1</td>\n",
              "      <td>1</td>\n",
              "      <td>male</td>\n",
              "      <td>26.0</td>\n",
              "      <td>0</td>\n",
              "      <td>0</td>\n",
              "      <td>30.0000</td>\n",
              "      <td>C</td>\n",
              "    </tr>\n",
              "    <tr>\n",
              "      <th>890</th>\n",
              "      <td>0</td>\n",
              "      <td>3</td>\n",
              "      <td>male</td>\n",
              "      <td>32.0</td>\n",
              "      <td>0</td>\n",
              "      <td>0</td>\n",
              "      <td>7.7500</td>\n",
              "      <td>Q</td>\n",
              "    </tr>\n",
              "  </tbody>\n",
              "</table>\n",
              "<p>891 rows × 8 columns</p>\n",
              "</div>"
            ],
            "text/plain": [
              "     Survived  Pclass     Sex   Age  SibSp  Parch     Fare Embarked\n",
              "0           0       3    male  22.0      1      0   7.2500        S\n",
              "1           1       1  female  38.0      1      0  71.2833        C\n",
              "2           1       3  female  26.0      0      0   7.9250        S\n",
              "3           1       1  female  35.0      1      0  53.1000        S\n",
              "4           0       3    male  35.0      0      0   8.0500        S\n",
              "..        ...     ...     ...   ...    ...    ...      ...      ...\n",
              "886         0       2    male  27.0      0      0  13.0000        S\n",
              "887         1       1  female  19.0      0      0  30.0000        S\n",
              "888         0       3  female   NaN      1      2  23.4500        S\n",
              "889         1       1    male  26.0      0      0  30.0000        C\n",
              "890         0       3    male  32.0      0      0   7.7500        Q\n",
              "\n",
              "[891 rows x 8 columns]"
            ]
          },
          "execution_count": 119,
          "metadata": {},
          "output_type": "execute_result"
        }
      ],
      "source": [
        "# Dropping unnecessary columns\n",
        "df.drop(columns = ['PassengerId','Name','Ticket','Cabin'], inplace = True)\n",
        "df"
      ]
    },
    {
      "cell_type": "code",
      "execution_count": null,
      "id": "4a93b9ed-ed70-4f91-a535-521f43d6a909",
      "metadata": {
        "id": "4a93b9ed-ed70-4f91-a535-521f43d6a909",
        "outputId": "d3032970-29bf-4b7a-a086-9873e93d866b"
      },
      "outputs": [
        {
          "data": {
            "text/plain": [
              "Survived      0\n",
              "Pclass        0\n",
              "Sex           0\n",
              "Age         177\n",
              "SibSp         0\n",
              "Parch         0\n",
              "Fare          0\n",
              "Embarked      2\n",
              "dtype: int64"
            ]
          },
          "execution_count": 120,
          "metadata": {},
          "output_type": "execute_result"
        }
      ],
      "source": [
        "df.isnull().sum()"
      ]
    },
    {
      "cell_type": "code",
      "execution_count": null,
      "id": "d5b3fbc7-dc41-4f79-bee0-69509278b5b3",
      "metadata": {
        "id": "d5b3fbc7-dc41-4f79-bee0-69509278b5b3",
        "outputId": "838205ce-4c06-4515-9abb-307a94e58eda"
      },
      "outputs": [
        {
          "name": "stderr",
          "output_type": "stream",
          "text": [
            "C:\\Users\\ANWAR RAJEEV\\AppData\\Local\\Temp\\ipykernel_24360\\285343069.py:3: FutureWarning: A value is trying to be set on a copy of a DataFrame or Series through chained assignment using an inplace method.\n",
            "The behavior will change in pandas 3.0. This inplace method will never work because the intermediate object on which we are setting values always behaves as a copy.\n",
            "\n",
            "For example, when doing 'df[col].method(value, inplace=True)', try using 'df.method({col: value}, inplace=True)' or df[col] = df[col].method(value) instead, to perform the operation inplace on the original object.\n",
            "\n",
            "\n",
            "  df['Age'].fillna(df['Age'].median(),inplace = True) #fill with median approach\n",
            "C:\\Users\\ANWAR RAJEEV\\AppData\\Local\\Temp\\ipykernel_24360\\285343069.py:5: FutureWarning: A value is trying to be set on a copy of a DataFrame or Series through chained assignment using an inplace method.\n",
            "The behavior will change in pandas 3.0. This inplace method will never work because the intermediate object on which we are setting values always behaves as a copy.\n",
            "\n",
            "For example, when doing 'df[col].method(value, inplace=True)', try using 'df.method({col: value}, inplace=True)' or df[col] = df[col].method(value) instead, to perform the operation inplace on the original object.\n",
            "\n",
            "\n",
            "  df['Embarked'].fillna(df['Embarked'].mode()[0],inplace = True) # mode approach\n"
          ]
        }
      ],
      "source": [
        "# for demonstartion only\n",
        "# handling missing values\n",
        "df['Age'].fillna(df['Age'].median(),inplace = True) #fill with median approach\n",
        "\n",
        "df['Embarked'].fillna(df['Embarked'].mode()[0],inplace = True) # mode approach"
      ]
    },
    {
      "cell_type": "code",
      "execution_count": null,
      "id": "60565db5-05c4-4a16-ada1-7790fb323149",
      "metadata": {
        "id": "60565db5-05c4-4a16-ada1-7790fb323149",
        "outputId": "d5433165-ff2e-4f87-cc50-6a9f1c84fa12"
      },
      "outputs": [
        {
          "data": {
            "text/plain": [
              "Survived    0\n",
              "Pclass      0\n",
              "Sex         0\n",
              "Age         0\n",
              "SibSp       0\n",
              "Parch       0\n",
              "Fare        0\n",
              "Embarked    0\n",
              "dtype: int64"
            ]
          },
          "execution_count": 122,
          "metadata": {},
          "output_type": "execute_result"
        }
      ],
      "source": [
        "df.isnull().sum()"
      ]
    },
    {
      "cell_type": "code",
      "execution_count": null,
      "id": "d357092a-6cd2-490d-bf8c-2095058671f4",
      "metadata": {
        "id": "d357092a-6cd2-490d-bf8c-2095058671f4",
        "outputId": "33e71928-f264-49c9-c5ea-7f34530cbbc3"
      },
      "outputs": [
        {
          "data": {
            "text/html": [
              "<div>\n",
              "<style scoped>\n",
              "    .dataframe tbody tr th:only-of-type {\n",
              "        vertical-align: middle;\n",
              "    }\n",
              "\n",
              "    .dataframe tbody tr th {\n",
              "        vertical-align: top;\n",
              "    }\n",
              "\n",
              "    .dataframe thead th {\n",
              "        text-align: right;\n",
              "    }\n",
              "</style>\n",
              "<table border=\"1\" class=\"dataframe\">\n",
              "  <thead>\n",
              "    <tr style=\"text-align: right;\">\n",
              "      <th></th>\n",
              "      <th>Survived</th>\n",
              "      <th>Pclass</th>\n",
              "      <th>Sex</th>\n",
              "      <th>Age</th>\n",
              "      <th>SibSp</th>\n",
              "      <th>Parch</th>\n",
              "      <th>Fare</th>\n",
              "      <th>Embarked</th>\n",
              "    </tr>\n",
              "  </thead>\n",
              "  <tbody>\n",
              "    <tr>\n",
              "      <th>0</th>\n",
              "      <td>0</td>\n",
              "      <td>3</td>\n",
              "      <td>male</td>\n",
              "      <td>22.0</td>\n",
              "      <td>1</td>\n",
              "      <td>0</td>\n",
              "      <td>7.2500</td>\n",
              "      <td>S</td>\n",
              "    </tr>\n",
              "    <tr>\n",
              "      <th>1</th>\n",
              "      <td>1</td>\n",
              "      <td>1</td>\n",
              "      <td>female</td>\n",
              "      <td>38.0</td>\n",
              "      <td>1</td>\n",
              "      <td>0</td>\n",
              "      <td>71.2833</td>\n",
              "      <td>C</td>\n",
              "    </tr>\n",
              "    <tr>\n",
              "      <th>2</th>\n",
              "      <td>1</td>\n",
              "      <td>3</td>\n",
              "      <td>female</td>\n",
              "      <td>26.0</td>\n",
              "      <td>0</td>\n",
              "      <td>0</td>\n",
              "      <td>7.9250</td>\n",
              "      <td>S</td>\n",
              "    </tr>\n",
              "    <tr>\n",
              "      <th>3</th>\n",
              "      <td>1</td>\n",
              "      <td>1</td>\n",
              "      <td>female</td>\n",
              "      <td>35.0</td>\n",
              "      <td>1</td>\n",
              "      <td>0</td>\n",
              "      <td>53.1000</td>\n",
              "      <td>S</td>\n",
              "    </tr>\n",
              "    <tr>\n",
              "      <th>4</th>\n",
              "      <td>0</td>\n",
              "      <td>3</td>\n",
              "      <td>male</td>\n",
              "      <td>35.0</td>\n",
              "      <td>0</td>\n",
              "      <td>0</td>\n",
              "      <td>8.0500</td>\n",
              "      <td>S</td>\n",
              "    </tr>\n",
              "  </tbody>\n",
              "</table>\n",
              "</div>"
            ],
            "text/plain": [
              "   Survived  Pclass     Sex   Age  SibSp  Parch     Fare Embarked\n",
              "0         0       3    male  22.0      1      0   7.2500        S\n",
              "1         1       1  female  38.0      1      0  71.2833        C\n",
              "2         1       3  female  26.0      0      0   7.9250        S\n",
              "3         1       1  female  35.0      1      0  53.1000        S\n",
              "4         0       3    male  35.0      0      0   8.0500        S"
            ]
          },
          "execution_count": 123,
          "metadata": {},
          "output_type": "execute_result"
        }
      ],
      "source": [
        "df.head()"
      ]
    },
    {
      "cell_type": "code",
      "execution_count": null,
      "id": "6c74a888-df2d-43da-b590-70688aaf5245",
      "metadata": {
        "id": "6c74a888-df2d-43da-b590-70688aaf5245"
      },
      "outputs": [],
      "source": [
        "# classfying the variables\n",
        "categorical_features = ['Sex','Embarked']"
      ]
    },
    {
      "cell_type": "code",
      "execution_count": null,
      "id": "35f0b468-c26e-4328-9e92-a42644069d26",
      "metadata": {
        "id": "35f0b468-c26e-4328-9e92-a42644069d26",
        "outputId": "26f22063-c6d3-4589-8d12-bf80f9328592"
      },
      "outputs": [
        {
          "data": {
            "text/plain": [
              "array(['S', 'C', 'Q'], dtype=object)"
            ]
          },
          "execution_count": 125,
          "metadata": {},
          "output_type": "execute_result"
        }
      ],
      "source": [
        "df['Embarked'].unique()"
      ]
    },
    {
      "cell_type": "code",
      "execution_count": null,
      "id": "ebcf817e-297b-4fec-81cc-cb257bbed538",
      "metadata": {
        "id": "ebcf817e-297b-4fec-81cc-cb257bbed538"
      },
      "outputs": [],
      "source": [
        "ohe = OneHotEncoder(drop = 'first',sparse_output=False)\n",
        "scaler = StandardScaler()"
      ]
    },
    {
      "cell_type": "code",
      "execution_count": null,
      "id": "4d4ad810-ccc5-4158-a42e-71de6b2d8576",
      "metadata": {
        "id": "4d4ad810-ccc5-4158-a42e-71de6b2d8576"
      },
      "outputs": [],
      "source": [
        "# Splitting the dataset to X and y\n",
        "X = df.drop(columns = ['Survived'])\n",
        "y = df['Survived']"
      ]
    },
    {
      "cell_type": "code",
      "execution_count": null,
      "id": "15410e25-f1af-4387-ada1-942ef1d497cb",
      "metadata": {
        "id": "15410e25-f1af-4387-ada1-942ef1d497cb",
        "outputId": "276f5dbf-6a35-44dd-ce75-e2c175707976"
      },
      "outputs": [
        {
          "data": {
            "text/html": [
              "<div>\n",
              "<style scoped>\n",
              "    .dataframe tbody tr th:only-of-type {\n",
              "        vertical-align: middle;\n",
              "    }\n",
              "\n",
              "    .dataframe tbody tr th {\n",
              "        vertical-align: top;\n",
              "    }\n",
              "\n",
              "    .dataframe thead th {\n",
              "        text-align: right;\n",
              "    }\n",
              "</style>\n",
              "<table border=\"1\" class=\"dataframe\">\n",
              "  <thead>\n",
              "    <tr style=\"text-align: right;\">\n",
              "      <th></th>\n",
              "      <th>Pclass</th>\n",
              "      <th>Sex</th>\n",
              "      <th>Age</th>\n",
              "      <th>SibSp</th>\n",
              "      <th>Parch</th>\n",
              "      <th>Fare</th>\n",
              "      <th>Embarked</th>\n",
              "    </tr>\n",
              "  </thead>\n",
              "  <tbody>\n",
              "    <tr>\n",
              "      <th>0</th>\n",
              "      <td>3</td>\n",
              "      <td>male</td>\n",
              "      <td>22.0</td>\n",
              "      <td>1</td>\n",
              "      <td>0</td>\n",
              "      <td>7.2500</td>\n",
              "      <td>S</td>\n",
              "    </tr>\n",
              "    <tr>\n",
              "      <th>1</th>\n",
              "      <td>1</td>\n",
              "      <td>female</td>\n",
              "      <td>38.0</td>\n",
              "      <td>1</td>\n",
              "      <td>0</td>\n",
              "      <td>71.2833</td>\n",
              "      <td>C</td>\n",
              "    </tr>\n",
              "    <tr>\n",
              "      <th>2</th>\n",
              "      <td>3</td>\n",
              "      <td>female</td>\n",
              "      <td>26.0</td>\n",
              "      <td>0</td>\n",
              "      <td>0</td>\n",
              "      <td>7.9250</td>\n",
              "      <td>S</td>\n",
              "    </tr>\n",
              "    <tr>\n",
              "      <th>3</th>\n",
              "      <td>1</td>\n",
              "      <td>female</td>\n",
              "      <td>35.0</td>\n",
              "      <td>1</td>\n",
              "      <td>0</td>\n",
              "      <td>53.1000</td>\n",
              "      <td>S</td>\n",
              "    </tr>\n",
              "    <tr>\n",
              "      <th>4</th>\n",
              "      <td>3</td>\n",
              "      <td>male</td>\n",
              "      <td>35.0</td>\n",
              "      <td>0</td>\n",
              "      <td>0</td>\n",
              "      <td>8.0500</td>\n",
              "      <td>S</td>\n",
              "    </tr>\n",
              "  </tbody>\n",
              "</table>\n",
              "</div>"
            ],
            "text/plain": [
              "   Pclass     Sex   Age  SibSp  Parch     Fare Embarked\n",
              "0       3    male  22.0      1      0   7.2500        S\n",
              "1       1  female  38.0      1      0  71.2833        C\n",
              "2       3  female  26.0      0      0   7.9250        S\n",
              "3       1  female  35.0      1      0  53.1000        S\n",
              "4       3    male  35.0      0      0   8.0500        S"
            ]
          },
          "execution_count": 128,
          "metadata": {},
          "output_type": "execute_result"
        }
      ],
      "source": [
        "X.head()"
      ]
    },
    {
      "cell_type": "code",
      "execution_count": null,
      "id": "20913eab-2577-4c2b-9eeb-54e1a59c971f",
      "metadata": {
        "id": "20913eab-2577-4c2b-9eeb-54e1a59c971f",
        "outputId": "5f413fae-2adb-44bc-d799-3678677aeb16"
      },
      "outputs": [
        {
          "data": {
            "text/plain": [
              "0    0\n",
              "1    1\n",
              "2    1\n",
              "3    1\n",
              "4    0\n",
              "Name: Survived, dtype: int64"
            ]
          },
          "execution_count": 129,
          "metadata": {},
          "output_type": "execute_result"
        }
      ],
      "source": [
        "y.head()"
      ]
    },
    {
      "cell_type": "code",
      "execution_count": null,
      "id": "cb179952-15ef-4be5-87aa-89c09959b728",
      "metadata": {
        "id": "cb179952-15ef-4be5-87aa-89c09959b728"
      },
      "outputs": [],
      "source": [
        "# Splitting to train and test using train_test_split\n",
        "X_train, X_test, y_train, y_test = train_test_split(X,y,test_size = 0.2, random_state = 42)"
      ]
    },
    {
      "cell_type": "code",
      "execution_count": null,
      "id": "9431342d-c90a-4d4e-b587-d30815e265c3",
      "metadata": {
        "id": "9431342d-c90a-4d4e-b587-d30815e265c3",
        "outputId": "5ae83c69-35bd-46cd-9933-2f915f4f2df0"
      },
      "outputs": [
        {
          "data": {
            "text/plain": [
              "(891, 7)"
            ]
          },
          "execution_count": 131,
          "metadata": {},
          "output_type": "execute_result"
        }
      ],
      "source": [
        "X.shape"
      ]
    },
    {
      "cell_type": "code",
      "execution_count": null,
      "id": "29537341-1609-441a-b572-d9451666bb45",
      "metadata": {
        "id": "29537341-1609-441a-b572-d9451666bb45",
        "outputId": "f39f475a-7e66-436a-c3c9-cde5f904bd1f"
      },
      "outputs": [
        {
          "data": {
            "text/plain": [
              "(712, 7)"
            ]
          },
          "execution_count": 132,
          "metadata": {},
          "output_type": "execute_result"
        }
      ],
      "source": [
        "X_train.shape"
      ]
    },
    {
      "cell_type": "code",
      "execution_count": null,
      "id": "861086b1-e52c-4ed7-88ca-8883405018fb",
      "metadata": {
        "id": "861086b1-e52c-4ed7-88ca-8883405018fb",
        "outputId": "df71638a-6d32-4b35-b8b0-2494568013f2"
      },
      "outputs": [
        {
          "data": {
            "text/html": [
              "<div>\n",
              "<style scoped>\n",
              "    .dataframe tbody tr th:only-of-type {\n",
              "        vertical-align: middle;\n",
              "    }\n",
              "\n",
              "    .dataframe tbody tr th {\n",
              "        vertical-align: top;\n",
              "    }\n",
              "\n",
              "    .dataframe thead th {\n",
              "        text-align: right;\n",
              "    }\n",
              "</style>\n",
              "<table border=\"1\" class=\"dataframe\">\n",
              "  <thead>\n",
              "    <tr style=\"text-align: right;\">\n",
              "      <th></th>\n",
              "      <th>Pclass</th>\n",
              "      <th>Sex</th>\n",
              "      <th>Age</th>\n",
              "      <th>SibSp</th>\n",
              "      <th>Parch</th>\n",
              "      <th>Fare</th>\n",
              "      <th>Embarked</th>\n",
              "    </tr>\n",
              "  </thead>\n",
              "  <tbody>\n",
              "    <tr>\n",
              "      <th>331</th>\n",
              "      <td>1</td>\n",
              "      <td>male</td>\n",
              "      <td>45.5</td>\n",
              "      <td>0</td>\n",
              "      <td>0</td>\n",
              "      <td>28.5000</td>\n",
              "      <td>S</td>\n",
              "    </tr>\n",
              "    <tr>\n",
              "      <th>733</th>\n",
              "      <td>2</td>\n",
              "      <td>male</td>\n",
              "      <td>23.0</td>\n",
              "      <td>0</td>\n",
              "      <td>0</td>\n",
              "      <td>13.0000</td>\n",
              "      <td>S</td>\n",
              "    </tr>\n",
              "    <tr>\n",
              "      <th>382</th>\n",
              "      <td>3</td>\n",
              "      <td>male</td>\n",
              "      <td>32.0</td>\n",
              "      <td>0</td>\n",
              "      <td>0</td>\n",
              "      <td>7.9250</td>\n",
              "      <td>S</td>\n",
              "    </tr>\n",
              "    <tr>\n",
              "      <th>704</th>\n",
              "      <td>3</td>\n",
              "      <td>male</td>\n",
              "      <td>26.0</td>\n",
              "      <td>1</td>\n",
              "      <td>0</td>\n",
              "      <td>7.8542</td>\n",
              "      <td>S</td>\n",
              "    </tr>\n",
              "    <tr>\n",
              "      <th>813</th>\n",
              "      <td>3</td>\n",
              "      <td>female</td>\n",
              "      <td>6.0</td>\n",
              "      <td>4</td>\n",
              "      <td>2</td>\n",
              "      <td>31.2750</td>\n",
              "      <td>S</td>\n",
              "    </tr>\n",
              "  </tbody>\n",
              "</table>\n",
              "</div>"
            ],
            "text/plain": [
              "     Pclass     Sex   Age  SibSp  Parch     Fare Embarked\n",
              "331       1    male  45.5      0      0  28.5000        S\n",
              "733       2    male  23.0      0      0  13.0000        S\n",
              "382       3    male  32.0      0      0   7.9250        S\n",
              "704       3    male  26.0      1      0   7.8542        S\n",
              "813       3  female   6.0      4      2  31.2750        S"
            ]
          },
          "execution_count": 133,
          "metadata": {},
          "output_type": "execute_result"
        }
      ],
      "source": [
        "X_train.head()"
      ]
    },
    {
      "cell_type": "code",
      "execution_count": null,
      "id": "79a12862-209e-48ff-9ecc-5b2a03255e05",
      "metadata": {
        "id": "79a12862-209e-48ff-9ecc-5b2a03255e05"
      },
      "outputs": [],
      "source": [
        "numerical_features = ['Pclass','Age','SibSp','Parch']"
      ]
    },
    {
      "cell_type": "code",
      "execution_count": null,
      "id": "6c998050-3c4e-4481-be36-191c41139dd7",
      "metadata": {
        "id": "6c998050-3c4e-4481-be36-191c41139dd7",
        "outputId": "59ccd9be-35f4-4cd3-e4b1-47a83d8c3e2f"
      },
      "outputs": [
        {
          "data": {
            "text/plain": [
              "['Sex', 'Embarked']"
            ]
          },
          "execution_count": 135,
          "metadata": {},
          "output_type": "execute_result"
        }
      ],
      "source": [
        "categorical_features"
      ]
    },
    {
      "cell_type": "code",
      "execution_count": null,
      "id": "7aa6e0f2-0bc3-4511-b9a6-9a07097aad59",
      "metadata": {
        "id": "7aa6e0f2-0bc3-4511-b9a6-9a07097aad59",
        "outputId": "09663783-f5bb-4628-9db4-9bf097be8a38"
      },
      "outputs": [
        {
          "data": {
            "text/plain": [
              "['Pclass', 'Age', 'SibSp', 'Parch']"
            ]
          },
          "execution_count": 136,
          "metadata": {},
          "output_type": "execute_result"
        }
      ],
      "source": [
        "numerical_features"
      ]
    },
    {
      "cell_type": "code",
      "execution_count": null,
      "id": "742a4396-3a1c-4c98-909f-786bc71a1923",
      "metadata": {
        "id": "742a4396-3a1c-4c98-909f-786bc71a1923"
      },
      "outputs": [],
      "source": [
        "# use fit_transform for train data and\n",
        "# transform for test data\n",
        "\n",
        "# one hot encoding\n",
        "X_train_cat = X_train[categorical_features]\n",
        "\n",
        "X_test_cat = X_test[categorical_features]"
      ]
    },
    {
      "cell_type": "code",
      "execution_count": null,
      "id": "eb0361b2-746f-436c-8056-5b258df59902",
      "metadata": {
        "id": "eb0361b2-746f-436c-8056-5b258df59902"
      },
      "outputs": [],
      "source": [
        "# processing numerical variables separately\n",
        "X_train_num = X_train[numerical_features]\n",
        "X_test_num = X_test[numerical_features]"
      ]
    },
    {
      "cell_type": "code",
      "execution_count": null,
      "id": "dd866f29-08e9-4535-91ac-b41b2209194d",
      "metadata": {
        "id": "dd866f29-08e9-4535-91ac-b41b2209194d",
        "outputId": "90303ada-6049-4293-8084-483e0ccc42d9"
      },
      "outputs": [
        {
          "data": {
            "text/html": [
              "<div>\n",
              "<style scoped>\n",
              "    .dataframe tbody tr th:only-of-type {\n",
              "        vertical-align: middle;\n",
              "    }\n",
              "\n",
              "    .dataframe tbody tr th {\n",
              "        vertical-align: top;\n",
              "    }\n",
              "\n",
              "    .dataframe thead th {\n",
              "        text-align: right;\n",
              "    }\n",
              "</style>\n",
              "<table border=\"1\" class=\"dataframe\">\n",
              "  <thead>\n",
              "    <tr style=\"text-align: right;\">\n",
              "      <th></th>\n",
              "      <th>Sex</th>\n",
              "      <th>Embarked</th>\n",
              "    </tr>\n",
              "  </thead>\n",
              "  <tbody>\n",
              "    <tr>\n",
              "      <th>331</th>\n",
              "      <td>male</td>\n",
              "      <td>S</td>\n",
              "    </tr>\n",
              "    <tr>\n",
              "      <th>733</th>\n",
              "      <td>male</td>\n",
              "      <td>S</td>\n",
              "    </tr>\n",
              "    <tr>\n",
              "      <th>382</th>\n",
              "      <td>male</td>\n",
              "      <td>S</td>\n",
              "    </tr>\n",
              "    <tr>\n",
              "      <th>704</th>\n",
              "      <td>male</td>\n",
              "      <td>S</td>\n",
              "    </tr>\n",
              "    <tr>\n",
              "      <th>813</th>\n",
              "      <td>female</td>\n",
              "      <td>S</td>\n",
              "    </tr>\n",
              "    <tr>\n",
              "      <th>...</th>\n",
              "      <td>...</td>\n",
              "      <td>...</td>\n",
              "    </tr>\n",
              "    <tr>\n",
              "      <th>106</th>\n",
              "      <td>female</td>\n",
              "      <td>S</td>\n",
              "    </tr>\n",
              "    <tr>\n",
              "      <th>270</th>\n",
              "      <td>male</td>\n",
              "      <td>S</td>\n",
              "    </tr>\n",
              "    <tr>\n",
              "      <th>860</th>\n",
              "      <td>male</td>\n",
              "      <td>S</td>\n",
              "    </tr>\n",
              "    <tr>\n",
              "      <th>435</th>\n",
              "      <td>female</td>\n",
              "      <td>S</td>\n",
              "    </tr>\n",
              "    <tr>\n",
              "      <th>102</th>\n",
              "      <td>male</td>\n",
              "      <td>S</td>\n",
              "    </tr>\n",
              "  </tbody>\n",
              "</table>\n",
              "<p>712 rows × 2 columns</p>\n",
              "</div>"
            ],
            "text/plain": [
              "        Sex Embarked\n",
              "331    male        S\n",
              "733    male        S\n",
              "382    male        S\n",
              "704    male        S\n",
              "813  female        S\n",
              "..      ...      ...\n",
              "106  female        S\n",
              "270    male        S\n",
              "860    male        S\n",
              "435  female        S\n",
              "102    male        S\n",
              "\n",
              "[712 rows x 2 columns]"
            ]
          },
          "execution_count": 139,
          "metadata": {},
          "output_type": "execute_result"
        }
      ],
      "source": [
        "X_train_cat"
      ]
    },
    {
      "cell_type": "code",
      "execution_count": null,
      "id": "1a210236-ef12-458d-9679-0b6d9288bbec",
      "metadata": {
        "id": "1a210236-ef12-458d-9679-0b6d9288bbec"
      },
      "outputs": [],
      "source": [
        "# Scaling\n",
        "# only for X\n",
        "X_train_num_scaled = scaler.fit_transform(X_train_num)\n",
        "X_test_num_scaled = scaler.transform(X_test_num)"
      ]
    },
    {
      "cell_type": "code",
      "execution_count": null,
      "id": "d299c148-a956-4232-8bc2-eb6b09f59c59",
      "metadata": {
        "id": "d299c148-a956-4232-8bc2-eb6b09f59c59"
      },
      "outputs": [],
      "source": [
        "# One hot encoding of categorical features\n"
      ]
    },
    {
      "cell_type": "code",
      "execution_count": null,
      "id": "cadc9932-f22d-4f42-bc94-f591dd976c15",
      "metadata": {
        "id": "cadc9932-f22d-4f42-bc94-f591dd976c15"
      },
      "outputs": [],
      "source": [
        "X_train_cat_encoded = ohe.fit_transform(X_train_cat)\n",
        "X_test_cat_encoded = ohe.transform(X_test_cat)"
      ]
    },
    {
      "cell_type": "code",
      "execution_count": null,
      "id": "00dad038-7398-466c-9b18-2d709cd65b31",
      "metadata": {
        "id": "00dad038-7398-466c-9b18-2d709cd65b31",
        "outputId": "cf8ceccc-0389-4d2d-97b4-3252613a9c19"
      },
      "outputs": [
        {
          "data": {
            "text/plain": [
              "array([[1., 0., 1.],\n",
              "       [1., 0., 1.],\n",
              "       [1., 0., 1.],\n",
              "       ...,\n",
              "       [1., 0., 1.],\n",
              "       [0., 0., 1.],\n",
              "       [1., 0., 1.]])"
            ]
          },
          "execution_count": 143,
          "metadata": {},
          "output_type": "execute_result"
        }
      ],
      "source": [
        "X_train_cat_encoded"
      ]
    },
    {
      "cell_type": "code",
      "execution_count": null,
      "id": "c0e2355b-7e26-4097-aeb6-071d3c9cd2b6",
      "metadata": {
        "id": "c0e2355b-7e26-4097-aeb6-071d3c9cd2b6",
        "outputId": "0736ab3d-15b4-461e-9a9d-d282fa8e51bd"
      },
      "outputs": [
        {
          "data": {
            "text/html": [
              "<div>\n",
              "<style scoped>\n",
              "    .dataframe tbody tr th:only-of-type {\n",
              "        vertical-align: middle;\n",
              "    }\n",
              "\n",
              "    .dataframe tbody tr th {\n",
              "        vertical-align: top;\n",
              "    }\n",
              "\n",
              "    .dataframe thead th {\n",
              "        text-align: right;\n",
              "    }\n",
              "</style>\n",
              "<table border=\"1\" class=\"dataframe\">\n",
              "  <thead>\n",
              "    <tr style=\"text-align: right;\">\n",
              "      <th></th>\n",
              "      <th>Sex_male</th>\n",
              "      <th>Embarked_Q</th>\n",
              "      <th>Embarked_S</th>\n",
              "    </tr>\n",
              "  </thead>\n",
              "  <tbody>\n",
              "    <tr>\n",
              "      <th>0</th>\n",
              "      <td>1.0</td>\n",
              "      <td>0.0</td>\n",
              "      <td>1.0</td>\n",
              "    </tr>\n",
              "    <tr>\n",
              "      <th>1</th>\n",
              "      <td>1.0</td>\n",
              "      <td>0.0</td>\n",
              "      <td>1.0</td>\n",
              "    </tr>\n",
              "    <tr>\n",
              "      <th>2</th>\n",
              "      <td>1.0</td>\n",
              "      <td>0.0</td>\n",
              "      <td>1.0</td>\n",
              "    </tr>\n",
              "    <tr>\n",
              "      <th>3</th>\n",
              "      <td>1.0</td>\n",
              "      <td>0.0</td>\n",
              "      <td>1.0</td>\n",
              "    </tr>\n",
              "    <tr>\n",
              "      <th>4</th>\n",
              "      <td>0.0</td>\n",
              "      <td>0.0</td>\n",
              "      <td>1.0</td>\n",
              "    </tr>\n",
              "  </tbody>\n",
              "</table>\n",
              "</div>"
            ],
            "text/plain": [
              "   Sex_male  Embarked_Q  Embarked_S\n",
              "0       1.0         0.0         1.0\n",
              "1       1.0         0.0         1.0\n",
              "2       1.0         0.0         1.0\n",
              "3       1.0         0.0         1.0\n",
              "4       0.0         0.0         1.0"
            ]
          },
          "execution_count": 144,
          "metadata": {},
          "output_type": "execute_result"
        }
      ],
      "source": [
        "# just to understand\n",
        "demo_features = ohe.get_feature_names_out(categorical_features)\n",
        "X_train_view = pd.DataFrame(X_train_cat_encoded, columns = demo_features)\n",
        "X_train_view.head()"
      ]
    },
    {
      "cell_type": "code",
      "execution_count": null,
      "id": "adacaf83-dbc4-4882-9896-59073cfc1459",
      "metadata": {
        "id": "adacaf83-dbc4-4882-9896-59073cfc1459"
      },
      "outputs": [],
      "source": [
        "# feature selection\n",
        "# ANOVA F-test for numerical features\n",
        "anova_sel = SelectKBest(score_func = f_classif, k = 3)\n",
        "X_train_num_selected = anova_sel.fit_transform(X_train_num_scaled, y_train)\n",
        "X_test_num_selected = anova_sel.transform(X_test_num_scaled)"
      ]
    },
    {
      "cell_type": "code",
      "execution_count": null,
      "id": "4451dabe-7754-4eca-948f-d1172d157a5c",
      "metadata": {
        "id": "4451dabe-7754-4eca-948f-d1172d157a5c",
        "outputId": "ade244d3-39da-4a96-adad-8eac9643c7a0"
      },
      "outputs": [
        {
          "data": {
            "text/plain": [
              "(179, 3)"
            ]
          },
          "execution_count": 236,
          "metadata": {},
          "output_type": "execute_result"
        }
      ],
      "source": [
        "X_test_num_selected.shape"
      ]
    },
    {
      "cell_type": "code",
      "execution_count": null,
      "id": "db695b26-40f2-4bae-bfef-83ecf9e43f93",
      "metadata": {
        "id": "db695b26-40f2-4bae-bfef-83ecf9e43f93"
      },
      "outputs": [],
      "source": [
        "# Chisquare for Categorical features\n",
        "from sklearn.feature_selection import SelectKBest, f_classif, chi2"
      ]
    },
    {
      "cell_type": "code",
      "execution_count": null,
      "id": "58e4e560-83eb-4c7f-a132-651aa003d1ac",
      "metadata": {
        "id": "58e4e560-83eb-4c7f-a132-651aa003d1ac"
      },
      "outputs": [],
      "source": [
        "chi2_sel = SelectKBest(score_func=chi2, k =2)\n",
        "X_train_cat_selected = chi2_sel.fit_transform(X_train_cat_encoded, y_train)\n",
        "X_test_cat_selected = chi2_sel.transform(X_test_cat_encoded)"
      ]
    },
    {
      "cell_type": "code",
      "execution_count": null,
      "id": "fecac0b8-3992-4443-820c-5329f06f08a4",
      "metadata": {
        "id": "fecac0b8-3992-4443-820c-5329f06f08a4",
        "outputId": "ec7a11f5-0cb6-40ba-c1fa-9cacc0879ba2"
      },
      "outputs": [
        {
          "data": {
            "text/plain": [
              "(712, 2)"
            ]
          },
          "execution_count": 238,
          "metadata": {},
          "output_type": "execute_result"
        }
      ],
      "source": [
        "X_train_cat_selected.shape"
      ]
    },
    {
      "cell_type": "code",
      "execution_count": null,
      "id": "aa03bc00-8208-4e7d-bafa-3232d861cb02",
      "metadata": {
        "id": "aa03bc00-8208-4e7d-bafa-3232d861cb02",
        "outputId": "e199938a-560c-4ca8-f847-142c86b74ec1"
      },
      "outputs": [
        {
          "data": {
            "text/plain": [
              "(179, 2)"
            ]
          },
          "execution_count": 242,
          "metadata": {},
          "output_type": "execute_result"
        }
      ],
      "source": [
        "X_test_cat_selected.shape"
      ]
    },
    {
      "cell_type": "code",
      "execution_count": null,
      "id": "7e92467a-af6d-4527-83ac-7f7cb20bbce6",
      "metadata": {
        "id": "7e92467a-af6d-4527-83ac-7f7cb20bbce6"
      },
      "outputs": [],
      "source": [
        "# Displaying the features\n",
        "X_train_selected = np.hstack((X_train_num_selected, X_train_cat_selected))\n",
        "X_test_selected = np.hstack((X_test_num_selected , X_test_cat_selected))\n"
      ]
    },
    {
      "cell_type": "code",
      "execution_count": null,
      "id": "6df99121-bbe9-4651-928e-a50c289567d9",
      "metadata": {
        "id": "6df99121-bbe9-4651-928e-a50c289567d9",
        "outputId": "aacf3705-e134-4002-b8fb-8d537b56cca8"
      },
      "outputs": [
        {
          "data": {
            "text/plain": [
              "(179, 5)"
            ]
          },
          "execution_count": 248,
          "metadata": {},
          "output_type": "execute_result"
        }
      ],
      "source": [
        "X_test_selected.shape"
      ]
    },
    {
      "cell_type": "code",
      "execution_count": null,
      "id": "168963cc-f817-4e20-8d3f-15039eb2b8b6",
      "metadata": {
        "id": "168963cc-f817-4e20-8d3f-15039eb2b8b6",
        "outputId": "9cc8a835-84ee-43b2-c2d9-2abdd1670a83"
      },
      "outputs": [
        {
          "data": {
            "text/plain": [
              "(712, 5)"
            ]
          },
          "execution_count": 250,
          "metadata": {},
          "output_type": "execute_result"
        }
      ],
      "source": [
        "X_train_selected.shape"
      ]
    },
    {
      "cell_type": "code",
      "execution_count": null,
      "id": "66791fc3-e5bf-40c6-8f55-2b33495bad39",
      "metadata": {
        "id": "66791fc3-e5bf-40c6-8f55-2b33495bad39"
      },
      "outputs": [],
      "source": [
        "# Combining the those feature which got selected\n",
        "num_feature_names= numerical_features\n",
        "cat_feature_names = list(ohe.get_feature_names_out(categorical_features))"
      ]
    },
    {
      "cell_type": "code",
      "execution_count": null,
      "id": "19df621d-e804-4de4-8051-b062d23249a0",
      "metadata": {
        "id": "19df621d-e804-4de4-8051-b062d23249a0",
        "outputId": "af6eeeb0-f72d-4894-a64e-ff00e0b4ab00"
      },
      "outputs": [
        {
          "data": {
            "text/plain": [
              "['Pclass', 'Age', 'SibSp', 'Parch']"
            ]
          },
          "execution_count": 254,
          "metadata": {},
          "output_type": "execute_result"
        }
      ],
      "source": [
        "num_feature_names"
      ]
    },
    {
      "cell_type": "code",
      "execution_count": null,
      "id": "8378d26d-c1b1-4f1f-892d-a6433a308155",
      "metadata": {
        "id": "8378d26d-c1b1-4f1f-892d-a6433a308155",
        "outputId": "68bd7ec4-293c-4c3c-a71d-6519e68df60e"
      },
      "outputs": [
        {
          "data": {
            "text/plain": [
              "['Sex_male', 'Embarked_Q', 'Embarked_S']"
            ]
          },
          "execution_count": 256,
          "metadata": {},
          "output_type": "execute_result"
        }
      ],
      "source": [
        "cat_feature_names"
      ]
    },
    {
      "cell_type": "code",
      "execution_count": null,
      "id": "82f08947-4b0b-47b0-875f-423da73937e8",
      "metadata": {
        "id": "82f08947-4b0b-47b0-875f-423da73937e8"
      },
      "outputs": [],
      "source": [
        "# Getting the scores\n",
        "num_score = pd.DataFrame({'Feature':num_feature_names, 'Score':anova_sel.scores_})\n",
        "cat_score = pd.DataFrame({'Feature':cat_feature_names, 'Score':chi2_sel.scores_})"
      ]
    },
    {
      "cell_type": "code",
      "execution_count": null,
      "id": "f57d0cd4-7bd7-4ee5-a255-4e5fa33e6ef4",
      "metadata": {
        "id": "f57d0cd4-7bd7-4ee5-a255-4e5fa33e6ef4",
        "outputId": "e3351acf-f3e9-49c6-dbda-da38c14cc443"
      },
      "outputs": [
        {
          "data": {
            "text/html": [
              "<div>\n",
              "<style scoped>\n",
              "    .dataframe tbody tr th:only-of-type {\n",
              "        vertical-align: middle;\n",
              "    }\n",
              "\n",
              "    .dataframe tbody tr th {\n",
              "        vertical-align: top;\n",
              "    }\n",
              "\n",
              "    .dataframe thead th {\n",
              "        text-align: right;\n",
              "    }\n",
              "</style>\n",
              "<table border=\"1\" class=\"dataframe\">\n",
              "  <thead>\n",
              "    <tr style=\"text-align: right;\">\n",
              "      <th></th>\n",
              "      <th>Feature</th>\n",
              "      <th>Score</th>\n",
              "    </tr>\n",
              "  </thead>\n",
              "  <tbody>\n",
              "    <tr>\n",
              "      <th>0</th>\n",
              "      <td>Pclass</td>\n",
              "      <td>81.989322</td>\n",
              "    </tr>\n",
              "    <tr>\n",
              "      <th>1</th>\n",
              "      <td>Age</td>\n",
              "      <td>1.680118</td>\n",
              "    </tr>\n",
              "    <tr>\n",
              "      <th>2</th>\n",
              "      <td>SibSp</td>\n",
              "      <td>1.612462</td>\n",
              "    </tr>\n",
              "    <tr>\n",
              "      <th>3</th>\n",
              "      <td>Parch</td>\n",
              "      <td>4.381027</td>\n",
              "    </tr>\n",
              "  </tbody>\n",
              "</table>\n",
              "</div>"
            ],
            "text/plain": [
              "  Feature      Score\n",
              "0  Pclass  81.989322\n",
              "1     Age   1.680118\n",
              "2   SibSp   1.612462\n",
              "3   Parch   4.381027"
            ]
          },
          "execution_count": 260,
          "metadata": {},
          "output_type": "execute_result"
        }
      ],
      "source": [
        "num_score"
      ]
    },
    {
      "cell_type": "code",
      "execution_count": null,
      "id": "a9563b8e-e2e5-4042-b4de-e9700fc52acb",
      "metadata": {
        "id": "a9563b8e-e2e5-4042-b4de-e9700fc52acb",
        "outputId": "af1943f1-a81d-4eb2-e63f-c109a2f449f3"
      },
      "outputs": [
        {
          "data": {
            "text/html": [
              "<div>\n",
              "<style scoped>\n",
              "    .dataframe tbody tr th:only-of-type {\n",
              "        vertical-align: middle;\n",
              "    }\n",
              "\n",
              "    .dataframe tbody tr th {\n",
              "        vertical-align: top;\n",
              "    }\n",
              "\n",
              "    .dataframe thead th {\n",
              "        text-align: right;\n",
              "    }\n",
              "</style>\n",
              "<table border=\"1\" class=\"dataframe\">\n",
              "  <thead>\n",
              "    <tr style=\"text-align: right;\">\n",
              "      <th></th>\n",
              "      <th>Feature</th>\n",
              "      <th>Score</th>\n",
              "    </tr>\n",
              "  </thead>\n",
              "  <tbody>\n",
              "    <tr>\n",
              "      <th>0</th>\n",
              "      <td>Pclass</td>\n",
              "      <td>81.989322</td>\n",
              "    </tr>\n",
              "    <tr>\n",
              "      <th>0</th>\n",
              "      <td>Sex_male</td>\n",
              "      <td>71.905882</td>\n",
              "    </tr>\n",
              "    <tr>\n",
              "      <th>3</th>\n",
              "      <td>Parch</td>\n",
              "      <td>4.381027</td>\n",
              "    </tr>\n",
              "    <tr>\n",
              "      <th>2</th>\n",
              "      <td>Embarked_S</td>\n",
              "      <td>3.352800</td>\n",
              "    </tr>\n",
              "    <tr>\n",
              "      <th>1</th>\n",
              "      <td>Age</td>\n",
              "      <td>1.680118</td>\n",
              "    </tr>\n",
              "  </tbody>\n",
              "</table>\n",
              "</div>"
            ],
            "text/plain": [
              "      Feature      Score\n",
              "0      Pclass  81.989322\n",
              "0    Sex_male  71.905882\n",
              "3       Parch   4.381027\n",
              "2  Embarked_S   3.352800\n",
              "1         Age   1.680118"
            ]
          },
          "execution_count": 278,
          "metadata": {},
          "output_type": "execute_result"
        }
      ],
      "source": [
        "feature_score = pd.concat([num_score,cat_score]).sort_values(by='Score',ascending=False)\n",
        "feature_score.head()"
      ]
    },
    {
      "cell_type": "code",
      "execution_count": null,
      "id": "4407945e-34c0-4093-ab9a-5f5592039b27",
      "metadata": {
        "id": "4407945e-34c0-4093-ab9a-5f5592039b27"
      },
      "outputs": [],
      "source": [
        "# get selected feature names\n",
        "selected_num_features = [num_feature_names[i] for i in anova_sel.get_support(indices=True)]\n",
        "selected_cat_features = [cat_feature_names[i] for i in chi2_sel.get_support(indices=True)]\n",
        "selected_features = selected_num_features + selected_cat_features"
      ]
    },
    {
      "cell_type": "code",
      "execution_count": null,
      "id": "f6e69117-adb2-463d-a41f-35652f12407a",
      "metadata": {
        "id": "f6e69117-adb2-463d-a41f-35652f12407a"
      },
      "outputs": [],
      "source": [
        "# the final dataframe\n",
        "X_train_final = pd.DataFrame(X_train_selected, columns = selected_features)\n",
        "X_test_final = pd.DataFrame(X_test_selected, columns = selected_features)"
      ]
    },
    {
      "cell_type": "code",
      "execution_count": null,
      "id": "9a856eaa-dbe2-49e6-8414-53aac1817625",
      "metadata": {
        "id": "9a856eaa-dbe2-49e6-8414-53aac1817625",
        "outputId": "e5d44dab-6525-407c-ca92-3457665c4afd"
      },
      "outputs": [
        {
          "data": {
            "text/html": [
              "<div>\n",
              "<style scoped>\n",
              "    .dataframe tbody tr th:only-of-type {\n",
              "        vertical-align: middle;\n",
              "    }\n",
              "\n",
              "    .dataframe tbody tr th {\n",
              "        vertical-align: top;\n",
              "    }\n",
              "\n",
              "    .dataframe thead th {\n",
              "        text-align: right;\n",
              "    }\n",
              "</style>\n",
              "<table border=\"1\" class=\"dataframe\">\n",
              "  <thead>\n",
              "    <tr style=\"text-align: right;\">\n",
              "      <th></th>\n",
              "      <th>Pclass</th>\n",
              "      <th>Age</th>\n",
              "      <th>Parch</th>\n",
              "      <th>Sex_male</th>\n",
              "      <th>Embarked_S</th>\n",
              "    </tr>\n",
              "  </thead>\n",
              "  <tbody>\n",
              "    <tr>\n",
              "      <th>0</th>\n",
              "      <td>0.813034</td>\n",
              "      <td>-0.092634</td>\n",
              "      <td>0.784700</td>\n",
              "      <td>1.0</td>\n",
              "      <td>0.0</td>\n",
              "    </tr>\n",
              "    <tr>\n",
              "      <th>1</th>\n",
              "      <td>-0.400551</td>\n",
              "      <td>0.138156</td>\n",
              "      <td>-0.479342</td>\n",
              "      <td>1.0</td>\n",
              "      <td>1.0</td>\n",
              "    </tr>\n",
              "    <tr>\n",
              "      <th>2</th>\n",
              "      <td>0.813034</td>\n",
              "      <td>-0.708074</td>\n",
              "      <td>-0.479342</td>\n",
              "      <td>1.0</td>\n",
              "      <td>1.0</td>\n",
              "    </tr>\n",
              "    <tr>\n",
              "      <th>3</th>\n",
              "      <td>-0.400551</td>\n",
              "      <td>-1.785093</td>\n",
              "      <td>0.784700</td>\n",
              "      <td>0.0</td>\n",
              "      <td>1.0</td>\n",
              "    </tr>\n",
              "    <tr>\n",
              "      <th>4</th>\n",
              "      <td>0.813034</td>\n",
              "      <td>-1.169653</td>\n",
              "      <td>-0.479342</td>\n",
              "      <td>0.0</td>\n",
              "      <td>0.0</td>\n",
              "    </tr>\n",
              "    <tr>\n",
              "      <th>...</th>\n",
              "      <td>...</td>\n",
              "      <td>...</td>\n",
              "      <td>...</td>\n",
              "      <td>...</td>\n",
              "      <td>...</td>\n",
              "    </tr>\n",
              "    <tr>\n",
              "      <th>174</th>\n",
              "      <td>0.813034</td>\n",
              "      <td>-0.938863</td>\n",
              "      <td>-0.479342</td>\n",
              "      <td>1.0</td>\n",
              "      <td>1.0</td>\n",
              "    </tr>\n",
              "    <tr>\n",
              "      <th>175</th>\n",
              "      <td>0.813034</td>\n",
              "      <td>-0.092634</td>\n",
              "      <td>-0.479342</td>\n",
              "      <td>1.0</td>\n",
              "      <td>0.0</td>\n",
              "    </tr>\n",
              "    <tr>\n",
              "      <th>176</th>\n",
              "      <td>0.813034</td>\n",
              "      <td>0.676666</td>\n",
              "      <td>5.840867</td>\n",
              "      <td>0.0</td>\n",
              "      <td>1.0</td>\n",
              "    </tr>\n",
              "    <tr>\n",
              "      <th>177</th>\n",
              "      <td>-0.400551</td>\n",
              "      <td>-0.938863</td>\n",
              "      <td>-0.479342</td>\n",
              "      <td>0.0</td>\n",
              "      <td>1.0</td>\n",
              "    </tr>\n",
              "    <tr>\n",
              "      <th>178</th>\n",
              "      <td>0.813034</td>\n",
              "      <td>-1.938953</td>\n",
              "      <td>0.784700</td>\n",
              "      <td>0.0</td>\n",
              "      <td>1.0</td>\n",
              "    </tr>\n",
              "  </tbody>\n",
              "</table>\n",
              "<p>179 rows × 5 columns</p>\n",
              "</div>"
            ],
            "text/plain": [
              "       Pclass       Age     Parch  Sex_male  Embarked_S\n",
              "0    0.813034 -0.092634  0.784700       1.0         0.0\n",
              "1   -0.400551  0.138156 -0.479342       1.0         1.0\n",
              "2    0.813034 -0.708074 -0.479342       1.0         1.0\n",
              "3   -0.400551 -1.785093  0.784700       0.0         1.0\n",
              "4    0.813034 -1.169653 -0.479342       0.0         0.0\n",
              "..        ...       ...       ...       ...         ...\n",
              "174  0.813034 -0.938863 -0.479342       1.0         1.0\n",
              "175  0.813034 -0.092634 -0.479342       1.0         0.0\n",
              "176  0.813034  0.676666  5.840867       0.0         1.0\n",
              "177 -0.400551 -0.938863 -0.479342       0.0         1.0\n",
              "178  0.813034 -1.938953  0.784700       0.0         1.0\n",
              "\n",
              "[179 rows x 5 columns]"
            ]
          },
          "execution_count": 274,
          "metadata": {},
          "output_type": "execute_result"
        }
      ],
      "source": [
        "X_test_final"
      ]
    },
    {
      "cell_type": "code",
      "execution_count": null,
      "id": "47dfbb43-caf1-459e-8ed5-26e6841226ed",
      "metadata": {
        "id": "47dfbb43-caf1-459e-8ed5-26e6841226ed"
      },
      "outputs": [],
      "source": []
    }
  ],
  "metadata": {
    "kernelspec": {
      "display_name": "Python 3 (ipykernel)",
      "language": "python",
      "name": "python3"
    },
    "language_info": {
      "codemirror_mode": {
        "name": "ipython",
        "version": 3
      },
      "file_extension": ".py",
      "mimetype": "text/x-python",
      "name": "python",
      "nbconvert_exporter": "python",
      "pygments_lexer": "ipython3",
      "version": "3.12.4"
    },
    "colab": {
      "provenance": []
    }
  },
  "nbformat": 4,
  "nbformat_minor": 5
}